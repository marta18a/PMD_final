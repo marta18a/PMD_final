{
  "nbformat": 4,
  "nbformat_minor": 0,
  "metadata": {
    "colab": {
      "name": "PMD_pySpark_RDD.ipynb",
      "provenance": [],
      "collapsed_sections": []
    },
    "kernelspec": {
      "name": "python3",
      "display_name": "Python 3"
    },
    "language_info": {
      "name": "python"
    }
  },
  "cells": [
    {
      "cell_type": "markdown",
      "metadata": {
        "id": "ohyBHp4Dpac4"
      },
      "source": [
        "## **Procesado Masivo de Datos**\n",
        "**Ana Pérez Hoyos, Ariadna Viera Santana, Marta Cartillo Ortiz y María Pardo Díaz.**\n"
      ]
    },
    {
      "cell_type": "markdown",
      "metadata": {
        "id": "oiIQeD34p_YH"
      },
      "source": [
        "Este es el segundo notebook en el cual implementaremos mediante técnicas RDD los mismos modelos que en el primer notebook.\n",
        "\n",
        "El metodo de trabajo es similar pero nos centraremos en la parte de la implementación de los modelos y la manera de trabajar previamente con los datos, ya que es diferente que la implementada en el primer notebook."
      ]
    },
    {
      "cell_type": "code",
      "metadata": {
        "colab": {
          "base_uri": "https://localhost:8080/"
        },
        "id": "M6WPS-iBZnWN",
        "outputId": "d336caac-c80b-4edd-d0ce-54418ee1bb39"
      },
      "source": [
        "# Installing pySpark and importing some useful packages\n",
        "!pip install pyspark[sql]\n",
        "\n",
        "from __future__ import print_function\n",
        "from functools import wraps\n",
        "import pyspark as spark\n",
        "from pyspark import SparkConf\n",
        "import time\n",
        "from operator import add\n",
        "import os \n",
        "from subprocess import STDOUT, check_call, check_output"
      ],
      "execution_count": 1,
      "outputs": [
        {
          "output_type": "stream",
          "text": [
            "Requirement already satisfied: pyspark[sql] in /usr/local/lib/python3.7/dist-packages (3.1.1)\n",
            "Requirement already satisfied: py4j==0.10.9 in /usr/local/lib/python3.7/dist-packages (from pyspark[sql]) (0.10.9)\n",
            "Requirement already satisfied: pyarrow>=1.0.0; extra == \"sql\" in /usr/local/lib/python3.7/dist-packages (from pyspark[sql]) (3.0.0)\n",
            "Requirement already satisfied: pandas>=0.23.2; extra == \"sql\" in /usr/local/lib/python3.7/dist-packages (from pyspark[sql]) (1.1.5)\n",
            "Requirement already satisfied: numpy>=1.16.6 in /usr/local/lib/python3.7/dist-packages (from pyarrow>=1.0.0; extra == \"sql\"->pyspark[sql]) (1.19.5)\n",
            "Requirement already satisfied: pytz>=2017.2 in /usr/local/lib/python3.7/dist-packages (from pandas>=0.23.2; extra == \"sql\"->pyspark[sql]) (2018.9)\n",
            "Requirement already satisfied: python-dateutil>=2.7.3 in /usr/local/lib/python3.7/dist-packages (from pandas>=0.23.2; extra == \"sql\"->pyspark[sql]) (2.8.1)\n",
            "Requirement already satisfied: six>=1.5 in /usr/local/lib/python3.7/dist-packages (from python-dateutil>=2.7.3->pandas>=0.23.2; extra == \"sql\"->pyspark[sql]) (1.15.0)\n"
          ],
          "name": "stdout"
        }
      ]
    },
    {
      "cell_type": "code",
      "metadata": {
        "id": "glYXc9q7ZqEo"
      },
      "source": [
        "def set_conf():\n",
        "    conf = SparkConf().setAppName(\"App\") #se puede poner el nombre que se quiera\n",
        "    conf = (conf.setMaster('local[*]') #master en local con todos lo nucleos que tenga (*)\n",
        "      .set('spark.executor.memory', '4G') #minimo 4G de memoria Ram\n",
        "      .set('spark.driver.memory', '16G') #que el driver (el que une todo) que tenga 16 G\n",
        "      .set('spark.driver.maxResultSize', '8G')) #límite del tamaño total al juntar todas las particiones (del resultado)\n",
        "    return conf"
      ],
      "execution_count": 2,
      "outputs": []
    },
    {
      "cell_type": "code",
      "metadata": {
        "colab": {
          "base_uri": "https://localhost:8080/"
        },
        "id": "7O1DbDGJaIVZ",
        "outputId": "06156b5d-8a4f-4ad6-9a0d-9aae29f9e191"
      },
      "source": [
        "from google.colab import drive\n",
        "drive.mount('/content/drive', force_remount=True)"
      ],
      "execution_count": 3,
      "outputs": [
        {
          "output_type": "stream",
          "text": [
            "Mounted at /content/drive\n"
          ],
          "name": "stdout"
        }
      ]
    },
    {
      "cell_type": "code",
      "metadata": {
        "id": "hS1qb0qQprVi"
      },
      "source": [
        "from pyspark.sql import SparkSession\n",
        "from pyspark import SparkContext"
      ],
      "execution_count": 4,
      "outputs": []
    },
    {
      "cell_type": "code",
      "metadata": {
        "id": "c0mkRA9-Z2NJ"
      },
      "source": [
        "sc = spark.SparkContext.getOrCreate(conf=set_conf()) #crear el contexto de spark con la configuracion diseñada"
      ],
      "execution_count": 5,
      "outputs": []
    },
    {
      "cell_type": "code",
      "metadata": {
        "id": "7RqHI75UqRAx"
      },
      "source": [
        "spark = SparkSession(sc)"
      ],
      "execution_count": 6,
      "outputs": []
    },
    {
      "cell_type": "code",
      "metadata": {
        "id": "bRsNJhuoZ8RV"
      },
      "source": [
        "data = sc.textFile(\"/content/drive/My Drive/PMD/ObesityDataSet_raw_and_data_sinthetic.csv\")"
      ],
      "execution_count": 7,
      "outputs": []
    },
    {
      "cell_type": "code",
      "metadata": {
        "id": "D462lxv5f072"
      },
      "source": [
        "mappedRdd= data.map(lambda x:x.split(\",\"))\n",
        "#mappedRdd.collect()\n",
        "#mappedRdd.take(5)"
      ],
      "execution_count": 8,
      "outputs": []
    },
    {
      "cell_type": "code",
      "metadata": {
        "id": "e4B2SMoPghaY",
        "colab": {
          "base_uri": "https://localhost:8080/"
        },
        "outputId": "eff26231-a06a-4697-f435-9729d158b3ad"
      },
      "source": [
        "headerRdd= mappedRdd.take(1)[0]\n",
        "print('Rdd con lo nombres de las variables:',headerRdd)"
      ],
      "execution_count": 9,
      "outputs": [
        {
          "output_type": "stream",
          "text": [
            "Rdd con lo nombres de las variables: ['Gender', 'Age', 'Height', 'Weight', 'family_history_with_overweight', 'FAVC', 'FCVC', 'NCP', 'CAEC', 'SMOKE', 'CH2O', 'SCC', 'FAF', 'TUE', 'CALC', 'MTRANS', 'NObeyesdad']\n"
          ],
          "name": "stdout"
        }
      ]
    },
    {
      "cell_type": "code",
      "metadata": {
        "id": "swLNzilEghVE"
      },
      "source": [
        "#Separamos en dos rdds, uno con los cados y otra con la cabecera\n",
        "mappedRddWithoutHeader=mappedRdd.filter(lambda x:x[0]!='Gender')"
      ],
      "execution_count": 10,
      "outputs": []
    },
    {
      "cell_type": "code",
      "metadata": {
        "id": "_aGGmVVtghJd"
      },
      "source": [
        "#Por comodidad vamos a pasar a dataframe para realizar el mismo preprocesado\n",
        "raw_data=mappedRddWithoutHeader.toDF(headerRdd)\n",
        "#raw_data.take(2)"
      ],
      "execution_count": 11,
      "outputs": []
    },
    {
      "cell_type": "code",
      "metadata": {
        "colab": {
          "base_uri": "https://localhost:8080/"
        },
        "id": "OlJz1y4rqYC0",
        "outputId": "176efea2-a54e-4e3e-a133-b896961b7f31"
      },
      "source": [
        "raw_data.show()"
      ],
      "execution_count": 12,
      "outputs": [
        {
          "output_type": "stream",
          "text": [
            "+------+---+------+------+------------------------------+----+----+---+----------+-----+----+---+---+---+----------+--------------------+-------------------+\n",
            "|Gender|Age|Height|Weight|family_history_with_overweight|FAVC|FCVC|NCP|      CAEC|SMOKE|CH2O|SCC|FAF|TUE|      CALC|              MTRANS|         NObeyesdad|\n",
            "+------+---+------+------+------------------------------+----+----+---+----------+-----+----+---+---+---+----------+--------------------+-------------------+\n",
            "|Female| 21|  1.62|    64|                           yes|  no|   2|  3| Sometimes|   no|   2| no|  0|  1|        no|Public_Transporta...|      Normal_Weight|\n",
            "|Female| 21|  1.52|    56|                           yes|  no|   3|  3| Sometimes|  yes|   3|yes|  3|  0| Sometimes|Public_Transporta...|      Normal_Weight|\n",
            "|  Male| 23|   1.8|    77|                           yes|  no|   2|  3| Sometimes|   no|   2| no|  2|  1|Frequently|Public_Transporta...|      Normal_Weight|\n",
            "|  Male| 27|   1.8|    87|                            no|  no|   3|  3| Sometimes|   no|   2| no|  2|  0|Frequently|             Walking| Overweight_Level_I|\n",
            "|  Male| 22|  1.78|  89.8|                            no|  no|   2|  1| Sometimes|   no|   2| no|  0|  0| Sometimes|Public_Transporta...|Overweight_Level_II|\n",
            "|  Male| 29|  1.62|    53|                            no| yes|   2|  3| Sometimes|   no|   2| no|  0|  0| Sometimes|          Automobile|      Normal_Weight|\n",
            "|Female| 23|   1.5|    55|                           yes| yes|   3|  3| Sometimes|   no|   2| no|  1|  0| Sometimes|           Motorbike|      Normal_Weight|\n",
            "|  Male| 22|  1.64|    53|                            no|  no|   2|  3| Sometimes|   no|   2| no|  3|  0| Sometimes|Public_Transporta...|      Normal_Weight|\n",
            "|  Male| 24|  1.78|    64|                           yes| yes|   3|  3| Sometimes|   no|   2| no|  1|  1|Frequently|Public_Transporta...|      Normal_Weight|\n",
            "|  Male| 22|  1.72|    68|                           yes| yes|   2|  3| Sometimes|   no|   2| no|  1|  1|        no|Public_Transporta...|      Normal_Weight|\n",
            "|  Male| 26|  1.85|   105|                           yes| yes|   3|  3|Frequently|   no|   3| no|  2|  2| Sometimes|Public_Transporta...|     Obesity_Type_I|\n",
            "|Female| 21|  1.72|    80|                           yes| yes|   2|  3|Frequently|   no|   2|yes|  2|  1| Sometimes|Public_Transporta...|Overweight_Level_II|\n",
            "|  Male| 22|  1.65|    56|                            no|  no|   3|  3| Sometimes|   no|   3| no|  2|  0| Sometimes|Public_Transporta...|      Normal_Weight|\n",
            "|  Male| 41|   1.8|    99|                            no| yes|   2|  3| Sometimes|   no|   2| no|  2|  1|Frequently|          Automobile|     Obesity_Type_I|\n",
            "|  Male| 23|  1.77|    60|                           yes| yes|   3|  1| Sometimes|   no|   1| no|  1|  1| Sometimes|Public_Transporta...|      Normal_Weight|\n",
            "|Female| 22|   1.7|    66|                           yes|  no|   3|  3|    Always|   no|   2|yes|  2|  1| Sometimes|Public_Transporta...|      Normal_Weight|\n",
            "|  Male| 27|  1.93|   102|                           yes| yes|   2|  1| Sometimes|   no|   1| no|  1|  0| Sometimes|Public_Transporta...|Overweight_Level_II|\n",
            "|Female| 29|  1.53|    78|                            no| yes|   2|  1| Sometimes|   no|   2| no|  0|  0|        no|          Automobile|     Obesity_Type_I|\n",
            "|Female| 30|  1.71|    82|                           yes| yes|   3|  4|Frequently|  yes|   1| no|  0|  0|        no|          Automobile|Overweight_Level_II|\n",
            "|Female| 23|  1.65|    70|                           yes|  no|   2|  1| Sometimes|   no|   2| no|  0|  0| Sometimes|Public_Transporta...| Overweight_Level_I|\n",
            "+------+---+------+------+------------------------------+----+----+---+----------+-----+----+---+---+---+----------+--------------------+-------------------+\n",
            "only showing top 20 rows\n",
            "\n"
          ],
          "name": "stdout"
        }
      ]
    },
    {
      "cell_type": "code",
      "metadata": {
        "id": "9nmgrAbvplB6"
      },
      "source": [
        "data=raw_data.toPandas()"
      ],
      "execution_count": 13,
      "outputs": []
    },
    {
      "cell_type": "code",
      "metadata": {
        "colab": {
          "base_uri": "https://localhost:8080/",
          "height": 222
        },
        "id": "iXQuT86uq4ja",
        "outputId": "54b91274-45f6-4308-c401-ef7e2778a08c"
      },
      "source": [
        "data.head()"
      ],
      "execution_count": 14,
      "outputs": [
        {
          "output_type": "execute_result",
          "data": {
            "text/html": [
              "<div>\n",
              "<style scoped>\n",
              "    .dataframe tbody tr th:only-of-type {\n",
              "        vertical-align: middle;\n",
              "    }\n",
              "\n",
              "    .dataframe tbody tr th {\n",
              "        vertical-align: top;\n",
              "    }\n",
              "\n",
              "    .dataframe thead th {\n",
              "        text-align: right;\n",
              "    }\n",
              "</style>\n",
              "<table border=\"1\" class=\"dataframe\">\n",
              "  <thead>\n",
              "    <tr style=\"text-align: right;\">\n",
              "      <th></th>\n",
              "      <th>Gender</th>\n",
              "      <th>Age</th>\n",
              "      <th>Height</th>\n",
              "      <th>Weight</th>\n",
              "      <th>family_history_with_overweight</th>\n",
              "      <th>FAVC</th>\n",
              "      <th>FCVC</th>\n",
              "      <th>NCP</th>\n",
              "      <th>CAEC</th>\n",
              "      <th>SMOKE</th>\n",
              "      <th>CH2O</th>\n",
              "      <th>SCC</th>\n",
              "      <th>FAF</th>\n",
              "      <th>TUE</th>\n",
              "      <th>CALC</th>\n",
              "      <th>MTRANS</th>\n",
              "      <th>NObeyesdad</th>\n",
              "    </tr>\n",
              "  </thead>\n",
              "  <tbody>\n",
              "    <tr>\n",
              "      <th>0</th>\n",
              "      <td>Female</td>\n",
              "      <td>21</td>\n",
              "      <td>1.62</td>\n",
              "      <td>64</td>\n",
              "      <td>yes</td>\n",
              "      <td>no</td>\n",
              "      <td>2</td>\n",
              "      <td>3</td>\n",
              "      <td>Sometimes</td>\n",
              "      <td>no</td>\n",
              "      <td>2</td>\n",
              "      <td>no</td>\n",
              "      <td>0</td>\n",
              "      <td>1</td>\n",
              "      <td>no</td>\n",
              "      <td>Public_Transportation</td>\n",
              "      <td>Normal_Weight</td>\n",
              "    </tr>\n",
              "    <tr>\n",
              "      <th>1</th>\n",
              "      <td>Female</td>\n",
              "      <td>21</td>\n",
              "      <td>1.52</td>\n",
              "      <td>56</td>\n",
              "      <td>yes</td>\n",
              "      <td>no</td>\n",
              "      <td>3</td>\n",
              "      <td>3</td>\n",
              "      <td>Sometimes</td>\n",
              "      <td>yes</td>\n",
              "      <td>3</td>\n",
              "      <td>yes</td>\n",
              "      <td>3</td>\n",
              "      <td>0</td>\n",
              "      <td>Sometimes</td>\n",
              "      <td>Public_Transportation</td>\n",
              "      <td>Normal_Weight</td>\n",
              "    </tr>\n",
              "    <tr>\n",
              "      <th>2</th>\n",
              "      <td>Male</td>\n",
              "      <td>23</td>\n",
              "      <td>1.8</td>\n",
              "      <td>77</td>\n",
              "      <td>yes</td>\n",
              "      <td>no</td>\n",
              "      <td>2</td>\n",
              "      <td>3</td>\n",
              "      <td>Sometimes</td>\n",
              "      <td>no</td>\n",
              "      <td>2</td>\n",
              "      <td>no</td>\n",
              "      <td>2</td>\n",
              "      <td>1</td>\n",
              "      <td>Frequently</td>\n",
              "      <td>Public_Transportation</td>\n",
              "      <td>Normal_Weight</td>\n",
              "    </tr>\n",
              "    <tr>\n",
              "      <th>3</th>\n",
              "      <td>Male</td>\n",
              "      <td>27</td>\n",
              "      <td>1.8</td>\n",
              "      <td>87</td>\n",
              "      <td>no</td>\n",
              "      <td>no</td>\n",
              "      <td>3</td>\n",
              "      <td>3</td>\n",
              "      <td>Sometimes</td>\n",
              "      <td>no</td>\n",
              "      <td>2</td>\n",
              "      <td>no</td>\n",
              "      <td>2</td>\n",
              "      <td>0</td>\n",
              "      <td>Frequently</td>\n",
              "      <td>Walking</td>\n",
              "      <td>Overweight_Level_I</td>\n",
              "    </tr>\n",
              "    <tr>\n",
              "      <th>4</th>\n",
              "      <td>Male</td>\n",
              "      <td>22</td>\n",
              "      <td>1.78</td>\n",
              "      <td>89.8</td>\n",
              "      <td>no</td>\n",
              "      <td>no</td>\n",
              "      <td>2</td>\n",
              "      <td>1</td>\n",
              "      <td>Sometimes</td>\n",
              "      <td>no</td>\n",
              "      <td>2</td>\n",
              "      <td>no</td>\n",
              "      <td>0</td>\n",
              "      <td>0</td>\n",
              "      <td>Sometimes</td>\n",
              "      <td>Public_Transportation</td>\n",
              "      <td>Overweight_Level_II</td>\n",
              "    </tr>\n",
              "  </tbody>\n",
              "</table>\n",
              "</div>"
            ],
            "text/plain": [
              "   Gender Age Height  ...        CALC                 MTRANS           NObeyesdad\n",
              "0  Female  21   1.62  ...          no  Public_Transportation        Normal_Weight\n",
              "1  Female  21   1.52  ...   Sometimes  Public_Transportation        Normal_Weight\n",
              "2    Male  23    1.8  ...  Frequently  Public_Transportation        Normal_Weight\n",
              "3    Male  27    1.8  ...  Frequently                Walking   Overweight_Level_I\n",
              "4    Male  22   1.78  ...   Sometimes  Public_Transportation  Overweight_Level_II\n",
              "\n",
              "[5 rows x 17 columns]"
            ]
          },
          "metadata": {
            "tags": []
          },
          "execution_count": 14
        }
      ]
    },
    {
      "cell_type": "code",
      "metadata": {
        "id": "fd6ZKN-Rq9_1"
      },
      "source": [
        "import numpy as np\n",
        "\n",
        "data['CH2O'] =data['CH2O'].astype(float)\n",
        "data['CH2O']=data['CH2O'].round()\n",
        "\n",
        "\n",
        "data.FAF = data.FAF.astype(float)\n",
        "data.FAF = data.FAF.round()\n",
        "data.TUE = data.TUE.astype(float)\n",
        "data.TUE = data.TUE.round()\n",
        "data.FCVC = data.FCVC.astype(float)\n",
        "data.FCVC = data.FCVC.round()\n",
        "data.NCP = data.NCP.astype(float)\n",
        "data.NCP = data.NCP.round()\n"
      ],
      "execution_count": 15,
      "outputs": []
    },
    {
      "cell_type": "code",
      "metadata": {
        "id": "fIuYPWEjs07S"
      },
      "source": [
        "for i in data['NCP']:\n",
        "    if i ==4:\n",
        "        #median = data.loc[data['NCP']<43, 'NCP'].median()\n",
        "        data.loc[data.NCP == 4, 'NCP'] = np.nan\n",
        "        data.fillna(3,inplace=True)"
      ],
      "execution_count": 16,
      "outputs": []
    },
    {
      "cell_type": "markdown",
      "metadata": {
        "id": "-yBxtMWJOb_d"
      },
      "source": [
        "## One hot encoding"
      ]
    },
    {
      "cell_type": "code",
      "metadata": {
        "id": "qNfWksiKteci",
        "colab": {
          "base_uri": "https://localhost:8080/"
        },
        "outputId": "f68abd96-c132-47b5-ae4e-4a392e57f41f"
      },
      "source": [
        "import pandas as pd\n",
        "print(data.nunique())"
      ],
      "execution_count": 17,
      "outputs": [
        {
          "output_type": "stream",
          "text": [
            "Gender                               2\n",
            "Age                               1402\n",
            "Height                            1574\n",
            "Weight                            1525\n",
            "family_history_with_overweight       2\n",
            "FAVC                                 2\n",
            "FCVC                                 3\n",
            "NCP                                  3\n",
            "CAEC                                 4\n",
            "SMOKE                                2\n",
            "CH2O                                 3\n",
            "SCC                                  2\n",
            "FAF                                  4\n",
            "TUE                                  3\n",
            "CALC                                 4\n",
            "MTRANS                               5\n",
            "NObeyesdad                           7\n",
            "dtype: int64\n"
          ],
          "name": "stdout"
        }
      ]
    },
    {
      "cell_type": "code",
      "metadata": {
        "id": "OfdaoOaivaZ5"
      },
      "source": [
        "#'CAEC', 'CALC', 'MTRANS'\n",
        "#one hot solo de las binarias\n",
        "data = pd.get_dummies(data, columns = ['Gender','family_history_with_overweight','FAVC', 'SMOKE', 'SCC'], drop_first = True)"
      ],
      "execution_count": 18,
      "outputs": []
    },
    {
      "cell_type": "code",
      "metadata": {
        "colab": {
          "base_uri": "https://localhost:8080/",
          "height": 222
        },
        "id": "0uuc0EM5wrhT",
        "outputId": "7d040244-026e-4b8d-d3e1-8ea75bb94877"
      },
      "source": [
        "one_hot = pd.get_dummies(data, columns=['CAEC', 'CALC', 'MTRANS'])\n",
        "pd.set_option('display.max_columns', None)\n",
        "one_hot.head()"
      ],
      "execution_count": 19,
      "outputs": [
        {
          "output_type": "execute_result",
          "data": {
            "text/html": [
              "<div>\n",
              "<style scoped>\n",
              "    .dataframe tbody tr th:only-of-type {\n",
              "        vertical-align: middle;\n",
              "    }\n",
              "\n",
              "    .dataframe tbody tr th {\n",
              "        vertical-align: top;\n",
              "    }\n",
              "\n",
              "    .dataframe thead th {\n",
              "        text-align: right;\n",
              "    }\n",
              "</style>\n",
              "<table border=\"1\" class=\"dataframe\">\n",
              "  <thead>\n",
              "    <tr style=\"text-align: right;\">\n",
              "      <th></th>\n",
              "      <th>Age</th>\n",
              "      <th>Height</th>\n",
              "      <th>Weight</th>\n",
              "      <th>FCVC</th>\n",
              "      <th>NCP</th>\n",
              "      <th>CH2O</th>\n",
              "      <th>FAF</th>\n",
              "      <th>TUE</th>\n",
              "      <th>NObeyesdad</th>\n",
              "      <th>Gender_Male</th>\n",
              "      <th>family_history_with_overweight_yes</th>\n",
              "      <th>FAVC_yes</th>\n",
              "      <th>SMOKE_yes</th>\n",
              "      <th>SCC_yes</th>\n",
              "      <th>CAEC_Always</th>\n",
              "      <th>CAEC_Frequently</th>\n",
              "      <th>CAEC_Sometimes</th>\n",
              "      <th>CAEC_no</th>\n",
              "      <th>CALC_Always</th>\n",
              "      <th>CALC_Frequently</th>\n",
              "      <th>CALC_Sometimes</th>\n",
              "      <th>CALC_no</th>\n",
              "      <th>MTRANS_Automobile</th>\n",
              "      <th>MTRANS_Bike</th>\n",
              "      <th>MTRANS_Motorbike</th>\n",
              "      <th>MTRANS_Public_Transportation</th>\n",
              "      <th>MTRANS_Walking</th>\n",
              "    </tr>\n",
              "  </thead>\n",
              "  <tbody>\n",
              "    <tr>\n",
              "      <th>0</th>\n",
              "      <td>21</td>\n",
              "      <td>1.62</td>\n",
              "      <td>64</td>\n",
              "      <td>2.0</td>\n",
              "      <td>3.0</td>\n",
              "      <td>2.0</td>\n",
              "      <td>0.0</td>\n",
              "      <td>1.0</td>\n",
              "      <td>Normal_Weight</td>\n",
              "      <td>0</td>\n",
              "      <td>1</td>\n",
              "      <td>0</td>\n",
              "      <td>0</td>\n",
              "      <td>0</td>\n",
              "      <td>0</td>\n",
              "      <td>0</td>\n",
              "      <td>1</td>\n",
              "      <td>0</td>\n",
              "      <td>0</td>\n",
              "      <td>0</td>\n",
              "      <td>0</td>\n",
              "      <td>1</td>\n",
              "      <td>0</td>\n",
              "      <td>0</td>\n",
              "      <td>0</td>\n",
              "      <td>1</td>\n",
              "      <td>0</td>\n",
              "    </tr>\n",
              "    <tr>\n",
              "      <th>1</th>\n",
              "      <td>21</td>\n",
              "      <td>1.52</td>\n",
              "      <td>56</td>\n",
              "      <td>3.0</td>\n",
              "      <td>3.0</td>\n",
              "      <td>3.0</td>\n",
              "      <td>3.0</td>\n",
              "      <td>0.0</td>\n",
              "      <td>Normal_Weight</td>\n",
              "      <td>0</td>\n",
              "      <td>1</td>\n",
              "      <td>0</td>\n",
              "      <td>1</td>\n",
              "      <td>1</td>\n",
              "      <td>0</td>\n",
              "      <td>0</td>\n",
              "      <td>1</td>\n",
              "      <td>0</td>\n",
              "      <td>0</td>\n",
              "      <td>0</td>\n",
              "      <td>1</td>\n",
              "      <td>0</td>\n",
              "      <td>0</td>\n",
              "      <td>0</td>\n",
              "      <td>0</td>\n",
              "      <td>1</td>\n",
              "      <td>0</td>\n",
              "    </tr>\n",
              "    <tr>\n",
              "      <th>2</th>\n",
              "      <td>23</td>\n",
              "      <td>1.8</td>\n",
              "      <td>77</td>\n",
              "      <td>2.0</td>\n",
              "      <td>3.0</td>\n",
              "      <td>2.0</td>\n",
              "      <td>2.0</td>\n",
              "      <td>1.0</td>\n",
              "      <td>Normal_Weight</td>\n",
              "      <td>1</td>\n",
              "      <td>1</td>\n",
              "      <td>0</td>\n",
              "      <td>0</td>\n",
              "      <td>0</td>\n",
              "      <td>0</td>\n",
              "      <td>0</td>\n",
              "      <td>1</td>\n",
              "      <td>0</td>\n",
              "      <td>0</td>\n",
              "      <td>1</td>\n",
              "      <td>0</td>\n",
              "      <td>0</td>\n",
              "      <td>0</td>\n",
              "      <td>0</td>\n",
              "      <td>0</td>\n",
              "      <td>1</td>\n",
              "      <td>0</td>\n",
              "    </tr>\n",
              "    <tr>\n",
              "      <th>3</th>\n",
              "      <td>27</td>\n",
              "      <td>1.8</td>\n",
              "      <td>87</td>\n",
              "      <td>3.0</td>\n",
              "      <td>3.0</td>\n",
              "      <td>2.0</td>\n",
              "      <td>2.0</td>\n",
              "      <td>0.0</td>\n",
              "      <td>Overweight_Level_I</td>\n",
              "      <td>1</td>\n",
              "      <td>0</td>\n",
              "      <td>0</td>\n",
              "      <td>0</td>\n",
              "      <td>0</td>\n",
              "      <td>0</td>\n",
              "      <td>0</td>\n",
              "      <td>1</td>\n",
              "      <td>0</td>\n",
              "      <td>0</td>\n",
              "      <td>1</td>\n",
              "      <td>0</td>\n",
              "      <td>0</td>\n",
              "      <td>0</td>\n",
              "      <td>0</td>\n",
              "      <td>0</td>\n",
              "      <td>0</td>\n",
              "      <td>1</td>\n",
              "    </tr>\n",
              "    <tr>\n",
              "      <th>4</th>\n",
              "      <td>22</td>\n",
              "      <td>1.78</td>\n",
              "      <td>89.8</td>\n",
              "      <td>2.0</td>\n",
              "      <td>1.0</td>\n",
              "      <td>2.0</td>\n",
              "      <td>0.0</td>\n",
              "      <td>0.0</td>\n",
              "      <td>Overweight_Level_II</td>\n",
              "      <td>1</td>\n",
              "      <td>0</td>\n",
              "      <td>0</td>\n",
              "      <td>0</td>\n",
              "      <td>0</td>\n",
              "      <td>0</td>\n",
              "      <td>0</td>\n",
              "      <td>1</td>\n",
              "      <td>0</td>\n",
              "      <td>0</td>\n",
              "      <td>0</td>\n",
              "      <td>1</td>\n",
              "      <td>0</td>\n",
              "      <td>0</td>\n",
              "      <td>0</td>\n",
              "      <td>0</td>\n",
              "      <td>1</td>\n",
              "      <td>0</td>\n",
              "    </tr>\n",
              "  </tbody>\n",
              "</table>\n",
              "</div>"
            ],
            "text/plain": [
              "  Age Height Weight  FCVC  NCP  CH2O  FAF  TUE           NObeyesdad  \\\n",
              "0  21   1.62     64   2.0  3.0   2.0  0.0  1.0        Normal_Weight   \n",
              "1  21   1.52     56   3.0  3.0   3.0  3.0  0.0        Normal_Weight   \n",
              "2  23    1.8     77   2.0  3.0   2.0  2.0  1.0        Normal_Weight   \n",
              "3  27    1.8     87   3.0  3.0   2.0  2.0  0.0   Overweight_Level_I   \n",
              "4  22   1.78   89.8   2.0  1.0   2.0  0.0  0.0  Overweight_Level_II   \n",
              "\n",
              "   Gender_Male  family_history_with_overweight_yes  FAVC_yes  SMOKE_yes  \\\n",
              "0            0                                   1         0          0   \n",
              "1            0                                   1         0          1   \n",
              "2            1                                   1         0          0   \n",
              "3            1                                   0         0          0   \n",
              "4            1                                   0         0          0   \n",
              "\n",
              "   SCC_yes  CAEC_Always  CAEC_Frequently  CAEC_Sometimes  CAEC_no  \\\n",
              "0        0            0                0               1        0   \n",
              "1        1            0                0               1        0   \n",
              "2        0            0                0               1        0   \n",
              "3        0            0                0               1        0   \n",
              "4        0            0                0               1        0   \n",
              "\n",
              "   CALC_Always  CALC_Frequently  CALC_Sometimes  CALC_no  MTRANS_Automobile  \\\n",
              "0            0                0               0        1                  0   \n",
              "1            0                0               1        0                  0   \n",
              "2            0                1               0        0                  0   \n",
              "3            0                1               0        0                  0   \n",
              "4            0                0               1        0                  0   \n",
              "\n",
              "   MTRANS_Bike  MTRANS_Motorbike  MTRANS_Public_Transportation  MTRANS_Walking  \n",
              "0            0                 0                             1               0  \n",
              "1            0                 0                             1               0  \n",
              "2            0                 0                             1               0  \n",
              "3            0                 0                             0               1  \n",
              "4            0                 0                             1               0  "
            ]
          },
          "metadata": {
            "tags": []
          },
          "execution_count": 19
        }
      ]
    },
    {
      "cell_type": "code",
      "metadata": {
        "id": "ysQUptXdyF65"
      },
      "source": [
        "#codificamos las etiquetas\n",
        "from sklearn.preprocessing import LabelEncoder\n",
        "le = LabelEncoder() \n",
        " \n",
        "one_hot['NObeyesdad']= le.fit_transform(one_hot['NObeyesdad'])"
      ],
      "execution_count": 20,
      "outputs": []
    },
    {
      "cell_type": "code",
      "metadata": {
        "colab": {
          "base_uri": "https://localhost:8080/",
          "height": 222
        },
        "id": "T5DzV06fyXMc",
        "outputId": "fb8a08fd-e2e5-4667-9632-971bafdb030b"
      },
      "source": [
        "one_hot.head()"
      ],
      "execution_count": 21,
      "outputs": [
        {
          "output_type": "execute_result",
          "data": {
            "text/html": [
              "<div>\n",
              "<style scoped>\n",
              "    .dataframe tbody tr th:only-of-type {\n",
              "        vertical-align: middle;\n",
              "    }\n",
              "\n",
              "    .dataframe tbody tr th {\n",
              "        vertical-align: top;\n",
              "    }\n",
              "\n",
              "    .dataframe thead th {\n",
              "        text-align: right;\n",
              "    }\n",
              "</style>\n",
              "<table border=\"1\" class=\"dataframe\">\n",
              "  <thead>\n",
              "    <tr style=\"text-align: right;\">\n",
              "      <th></th>\n",
              "      <th>Age</th>\n",
              "      <th>Height</th>\n",
              "      <th>Weight</th>\n",
              "      <th>FCVC</th>\n",
              "      <th>NCP</th>\n",
              "      <th>CH2O</th>\n",
              "      <th>FAF</th>\n",
              "      <th>TUE</th>\n",
              "      <th>NObeyesdad</th>\n",
              "      <th>Gender_Male</th>\n",
              "      <th>family_history_with_overweight_yes</th>\n",
              "      <th>FAVC_yes</th>\n",
              "      <th>SMOKE_yes</th>\n",
              "      <th>SCC_yes</th>\n",
              "      <th>CAEC_Always</th>\n",
              "      <th>CAEC_Frequently</th>\n",
              "      <th>CAEC_Sometimes</th>\n",
              "      <th>CAEC_no</th>\n",
              "      <th>CALC_Always</th>\n",
              "      <th>CALC_Frequently</th>\n",
              "      <th>CALC_Sometimes</th>\n",
              "      <th>CALC_no</th>\n",
              "      <th>MTRANS_Automobile</th>\n",
              "      <th>MTRANS_Bike</th>\n",
              "      <th>MTRANS_Motorbike</th>\n",
              "      <th>MTRANS_Public_Transportation</th>\n",
              "      <th>MTRANS_Walking</th>\n",
              "    </tr>\n",
              "  </thead>\n",
              "  <tbody>\n",
              "    <tr>\n",
              "      <th>0</th>\n",
              "      <td>21</td>\n",
              "      <td>1.62</td>\n",
              "      <td>64</td>\n",
              "      <td>2.0</td>\n",
              "      <td>3.0</td>\n",
              "      <td>2.0</td>\n",
              "      <td>0.0</td>\n",
              "      <td>1.0</td>\n",
              "      <td>1</td>\n",
              "      <td>0</td>\n",
              "      <td>1</td>\n",
              "      <td>0</td>\n",
              "      <td>0</td>\n",
              "      <td>0</td>\n",
              "      <td>0</td>\n",
              "      <td>0</td>\n",
              "      <td>1</td>\n",
              "      <td>0</td>\n",
              "      <td>0</td>\n",
              "      <td>0</td>\n",
              "      <td>0</td>\n",
              "      <td>1</td>\n",
              "      <td>0</td>\n",
              "      <td>0</td>\n",
              "      <td>0</td>\n",
              "      <td>1</td>\n",
              "      <td>0</td>\n",
              "    </tr>\n",
              "    <tr>\n",
              "      <th>1</th>\n",
              "      <td>21</td>\n",
              "      <td>1.52</td>\n",
              "      <td>56</td>\n",
              "      <td>3.0</td>\n",
              "      <td>3.0</td>\n",
              "      <td>3.0</td>\n",
              "      <td>3.0</td>\n",
              "      <td>0.0</td>\n",
              "      <td>1</td>\n",
              "      <td>0</td>\n",
              "      <td>1</td>\n",
              "      <td>0</td>\n",
              "      <td>1</td>\n",
              "      <td>1</td>\n",
              "      <td>0</td>\n",
              "      <td>0</td>\n",
              "      <td>1</td>\n",
              "      <td>0</td>\n",
              "      <td>0</td>\n",
              "      <td>0</td>\n",
              "      <td>1</td>\n",
              "      <td>0</td>\n",
              "      <td>0</td>\n",
              "      <td>0</td>\n",
              "      <td>0</td>\n",
              "      <td>1</td>\n",
              "      <td>0</td>\n",
              "    </tr>\n",
              "    <tr>\n",
              "      <th>2</th>\n",
              "      <td>23</td>\n",
              "      <td>1.8</td>\n",
              "      <td>77</td>\n",
              "      <td>2.0</td>\n",
              "      <td>3.0</td>\n",
              "      <td>2.0</td>\n",
              "      <td>2.0</td>\n",
              "      <td>1.0</td>\n",
              "      <td>1</td>\n",
              "      <td>1</td>\n",
              "      <td>1</td>\n",
              "      <td>0</td>\n",
              "      <td>0</td>\n",
              "      <td>0</td>\n",
              "      <td>0</td>\n",
              "      <td>0</td>\n",
              "      <td>1</td>\n",
              "      <td>0</td>\n",
              "      <td>0</td>\n",
              "      <td>1</td>\n",
              "      <td>0</td>\n",
              "      <td>0</td>\n",
              "      <td>0</td>\n",
              "      <td>0</td>\n",
              "      <td>0</td>\n",
              "      <td>1</td>\n",
              "      <td>0</td>\n",
              "    </tr>\n",
              "    <tr>\n",
              "      <th>3</th>\n",
              "      <td>27</td>\n",
              "      <td>1.8</td>\n",
              "      <td>87</td>\n",
              "      <td>3.0</td>\n",
              "      <td>3.0</td>\n",
              "      <td>2.0</td>\n",
              "      <td>2.0</td>\n",
              "      <td>0.0</td>\n",
              "      <td>5</td>\n",
              "      <td>1</td>\n",
              "      <td>0</td>\n",
              "      <td>0</td>\n",
              "      <td>0</td>\n",
              "      <td>0</td>\n",
              "      <td>0</td>\n",
              "      <td>0</td>\n",
              "      <td>1</td>\n",
              "      <td>0</td>\n",
              "      <td>0</td>\n",
              "      <td>1</td>\n",
              "      <td>0</td>\n",
              "      <td>0</td>\n",
              "      <td>0</td>\n",
              "      <td>0</td>\n",
              "      <td>0</td>\n",
              "      <td>0</td>\n",
              "      <td>1</td>\n",
              "    </tr>\n",
              "    <tr>\n",
              "      <th>4</th>\n",
              "      <td>22</td>\n",
              "      <td>1.78</td>\n",
              "      <td>89.8</td>\n",
              "      <td>2.0</td>\n",
              "      <td>1.0</td>\n",
              "      <td>2.0</td>\n",
              "      <td>0.0</td>\n",
              "      <td>0.0</td>\n",
              "      <td>6</td>\n",
              "      <td>1</td>\n",
              "      <td>0</td>\n",
              "      <td>0</td>\n",
              "      <td>0</td>\n",
              "      <td>0</td>\n",
              "      <td>0</td>\n",
              "      <td>0</td>\n",
              "      <td>1</td>\n",
              "      <td>0</td>\n",
              "      <td>0</td>\n",
              "      <td>0</td>\n",
              "      <td>1</td>\n",
              "      <td>0</td>\n",
              "      <td>0</td>\n",
              "      <td>0</td>\n",
              "      <td>0</td>\n",
              "      <td>1</td>\n",
              "      <td>0</td>\n",
              "    </tr>\n",
              "  </tbody>\n",
              "</table>\n",
              "</div>"
            ],
            "text/plain": [
              "  Age Height Weight  FCVC  NCP  CH2O  FAF  TUE  NObeyesdad  Gender_Male  \\\n",
              "0  21   1.62     64   2.0  3.0   2.0  0.0  1.0           1            0   \n",
              "1  21   1.52     56   3.0  3.0   3.0  3.0  0.0           1            0   \n",
              "2  23    1.8     77   2.0  3.0   2.0  2.0  1.0           1            1   \n",
              "3  27    1.8     87   3.0  3.0   2.0  2.0  0.0           5            1   \n",
              "4  22   1.78   89.8   2.0  1.0   2.0  0.0  0.0           6            1   \n",
              "\n",
              "   family_history_with_overweight_yes  FAVC_yes  SMOKE_yes  SCC_yes  \\\n",
              "0                                   1         0          0        0   \n",
              "1                                   1         0          1        1   \n",
              "2                                   1         0          0        0   \n",
              "3                                   0         0          0        0   \n",
              "4                                   0         0          0        0   \n",
              "\n",
              "   CAEC_Always  CAEC_Frequently  CAEC_Sometimes  CAEC_no  CALC_Always  \\\n",
              "0            0                0               1        0            0   \n",
              "1            0                0               1        0            0   \n",
              "2            0                0               1        0            0   \n",
              "3            0                0               1        0            0   \n",
              "4            0                0               1        0            0   \n",
              "\n",
              "   CALC_Frequently  CALC_Sometimes  CALC_no  MTRANS_Automobile  MTRANS_Bike  \\\n",
              "0                0               0        1                  0            0   \n",
              "1                0               1        0                  0            0   \n",
              "2                1               0        0                  0            0   \n",
              "3                1               0        0                  0            0   \n",
              "4                0               1        0                  0            0   \n",
              "\n",
              "   MTRANS_Motorbike  MTRANS_Public_Transportation  MTRANS_Walking  \n",
              "0                 0                             1               0  \n",
              "1                 0                             1               0  \n",
              "2                 0                             1               0  \n",
              "3                 0                             0               1  \n",
              "4                 0                             1               0  "
            ]
          },
          "metadata": {
            "tags": []
          },
          "execution_count": 21
        }
      ]
    },
    {
      "cell_type": "markdown",
      "metadata": {
        "id": "wQTh2if0LQNQ"
      },
      "source": [
        "## Divimos los datos en Train y Test para entrenar los algoritmos de machine learning"
      ]
    },
    {
      "cell_type": "code",
      "metadata": {
        "id": "sLtNNNzmzI3I"
      },
      "source": [
        "import pyspark.mllib\n",
        "import pyspark.mllib.regression\n",
        "from pyspark.mllib.regression import LabeledPoint\n",
        "from pyspark.sql.functions import *"
      ],
      "execution_count": 22,
      "outputs": []
    },
    {
      "cell_type": "code",
      "metadata": {
        "id": "JBIdowxCzfmC"
      },
      "source": [
        "one_hot_1 = one_hot[['NObeyesdad','Age','FCVC',\t'NCP',\t'CH2O',\t'FAF',\t'TUE','Gender_Male',\t'family_history_with_overweight_yes',\t'FAVC_yes',\t'SMOKE_yes',\t'SCC_yes'\t,'CAEC_Always',\t'CAEC_Frequently',\t'CAEC_Sometimes',\t'CAEC_no'\t,'CALC_Always'\t,'CALC_Frequently',\t'CALC_Sometimes',\t'CALC_no',\t'MTRANS_Automobile',\t'MTRANS_Bike',\t'MTRANS_Motorbike',\t'MTRANS_Public_Transportation',\t'MTRANS_Walking']]"
      ],
      "execution_count": 23,
      "outputs": []
    },
    {
      "cell_type": "code",
      "metadata": {
        "colab": {
          "base_uri": "https://localhost:8080/",
          "height": 222
        },
        "id": "a0aa3IYd0r7z",
        "outputId": "a10a52c0-1ddf-42b5-9ed5-2617be2f1be2"
      },
      "source": [
        "one_hot_1.head()"
      ],
      "execution_count": 24,
      "outputs": [
        {
          "output_type": "execute_result",
          "data": {
            "text/html": [
              "<div>\n",
              "<style scoped>\n",
              "    .dataframe tbody tr th:only-of-type {\n",
              "        vertical-align: middle;\n",
              "    }\n",
              "\n",
              "    .dataframe tbody tr th {\n",
              "        vertical-align: top;\n",
              "    }\n",
              "\n",
              "    .dataframe thead th {\n",
              "        text-align: right;\n",
              "    }\n",
              "</style>\n",
              "<table border=\"1\" class=\"dataframe\">\n",
              "  <thead>\n",
              "    <tr style=\"text-align: right;\">\n",
              "      <th></th>\n",
              "      <th>NObeyesdad</th>\n",
              "      <th>Age</th>\n",
              "      <th>FCVC</th>\n",
              "      <th>NCP</th>\n",
              "      <th>CH2O</th>\n",
              "      <th>FAF</th>\n",
              "      <th>TUE</th>\n",
              "      <th>Gender_Male</th>\n",
              "      <th>family_history_with_overweight_yes</th>\n",
              "      <th>FAVC_yes</th>\n",
              "      <th>SMOKE_yes</th>\n",
              "      <th>SCC_yes</th>\n",
              "      <th>CAEC_Always</th>\n",
              "      <th>CAEC_Frequently</th>\n",
              "      <th>CAEC_Sometimes</th>\n",
              "      <th>CAEC_no</th>\n",
              "      <th>CALC_Always</th>\n",
              "      <th>CALC_Frequently</th>\n",
              "      <th>CALC_Sometimes</th>\n",
              "      <th>CALC_no</th>\n",
              "      <th>MTRANS_Automobile</th>\n",
              "      <th>MTRANS_Bike</th>\n",
              "      <th>MTRANS_Motorbike</th>\n",
              "      <th>MTRANS_Public_Transportation</th>\n",
              "      <th>MTRANS_Walking</th>\n",
              "    </tr>\n",
              "  </thead>\n",
              "  <tbody>\n",
              "    <tr>\n",
              "      <th>0</th>\n",
              "      <td>1</td>\n",
              "      <td>21</td>\n",
              "      <td>2.0</td>\n",
              "      <td>3.0</td>\n",
              "      <td>2.0</td>\n",
              "      <td>0.0</td>\n",
              "      <td>1.0</td>\n",
              "      <td>0</td>\n",
              "      <td>1</td>\n",
              "      <td>0</td>\n",
              "      <td>0</td>\n",
              "      <td>0</td>\n",
              "      <td>0</td>\n",
              "      <td>0</td>\n",
              "      <td>1</td>\n",
              "      <td>0</td>\n",
              "      <td>0</td>\n",
              "      <td>0</td>\n",
              "      <td>0</td>\n",
              "      <td>1</td>\n",
              "      <td>0</td>\n",
              "      <td>0</td>\n",
              "      <td>0</td>\n",
              "      <td>1</td>\n",
              "      <td>0</td>\n",
              "    </tr>\n",
              "    <tr>\n",
              "      <th>1</th>\n",
              "      <td>1</td>\n",
              "      <td>21</td>\n",
              "      <td>3.0</td>\n",
              "      <td>3.0</td>\n",
              "      <td>3.0</td>\n",
              "      <td>3.0</td>\n",
              "      <td>0.0</td>\n",
              "      <td>0</td>\n",
              "      <td>1</td>\n",
              "      <td>0</td>\n",
              "      <td>1</td>\n",
              "      <td>1</td>\n",
              "      <td>0</td>\n",
              "      <td>0</td>\n",
              "      <td>1</td>\n",
              "      <td>0</td>\n",
              "      <td>0</td>\n",
              "      <td>0</td>\n",
              "      <td>1</td>\n",
              "      <td>0</td>\n",
              "      <td>0</td>\n",
              "      <td>0</td>\n",
              "      <td>0</td>\n",
              "      <td>1</td>\n",
              "      <td>0</td>\n",
              "    </tr>\n",
              "    <tr>\n",
              "      <th>2</th>\n",
              "      <td>1</td>\n",
              "      <td>23</td>\n",
              "      <td>2.0</td>\n",
              "      <td>3.0</td>\n",
              "      <td>2.0</td>\n",
              "      <td>2.0</td>\n",
              "      <td>1.0</td>\n",
              "      <td>1</td>\n",
              "      <td>1</td>\n",
              "      <td>0</td>\n",
              "      <td>0</td>\n",
              "      <td>0</td>\n",
              "      <td>0</td>\n",
              "      <td>0</td>\n",
              "      <td>1</td>\n",
              "      <td>0</td>\n",
              "      <td>0</td>\n",
              "      <td>1</td>\n",
              "      <td>0</td>\n",
              "      <td>0</td>\n",
              "      <td>0</td>\n",
              "      <td>0</td>\n",
              "      <td>0</td>\n",
              "      <td>1</td>\n",
              "      <td>0</td>\n",
              "    </tr>\n",
              "    <tr>\n",
              "      <th>3</th>\n",
              "      <td>5</td>\n",
              "      <td>27</td>\n",
              "      <td>3.0</td>\n",
              "      <td>3.0</td>\n",
              "      <td>2.0</td>\n",
              "      <td>2.0</td>\n",
              "      <td>0.0</td>\n",
              "      <td>1</td>\n",
              "      <td>0</td>\n",
              "      <td>0</td>\n",
              "      <td>0</td>\n",
              "      <td>0</td>\n",
              "      <td>0</td>\n",
              "      <td>0</td>\n",
              "      <td>1</td>\n",
              "      <td>0</td>\n",
              "      <td>0</td>\n",
              "      <td>1</td>\n",
              "      <td>0</td>\n",
              "      <td>0</td>\n",
              "      <td>0</td>\n",
              "      <td>0</td>\n",
              "      <td>0</td>\n",
              "      <td>0</td>\n",
              "      <td>1</td>\n",
              "    </tr>\n",
              "    <tr>\n",
              "      <th>4</th>\n",
              "      <td>6</td>\n",
              "      <td>22</td>\n",
              "      <td>2.0</td>\n",
              "      <td>1.0</td>\n",
              "      <td>2.0</td>\n",
              "      <td>0.0</td>\n",
              "      <td>0.0</td>\n",
              "      <td>1</td>\n",
              "      <td>0</td>\n",
              "      <td>0</td>\n",
              "      <td>0</td>\n",
              "      <td>0</td>\n",
              "      <td>0</td>\n",
              "      <td>0</td>\n",
              "      <td>1</td>\n",
              "      <td>0</td>\n",
              "      <td>0</td>\n",
              "      <td>0</td>\n",
              "      <td>1</td>\n",
              "      <td>0</td>\n",
              "      <td>0</td>\n",
              "      <td>0</td>\n",
              "      <td>0</td>\n",
              "      <td>1</td>\n",
              "      <td>0</td>\n",
              "    </tr>\n",
              "  </tbody>\n",
              "</table>\n",
              "</div>"
            ],
            "text/plain": [
              "   NObeyesdad Age  FCVC  NCP  CH2O  FAF  TUE  Gender_Male  \\\n",
              "0           1  21   2.0  3.0   2.0  0.0  1.0            0   \n",
              "1           1  21   3.0  3.0   3.0  3.0  0.0            0   \n",
              "2           1  23   2.0  3.0   2.0  2.0  1.0            1   \n",
              "3           5  27   3.0  3.0   2.0  2.0  0.0            1   \n",
              "4           6  22   2.0  1.0   2.0  0.0  0.0            1   \n",
              "\n",
              "   family_history_with_overweight_yes  FAVC_yes  SMOKE_yes  SCC_yes  \\\n",
              "0                                   1         0          0        0   \n",
              "1                                   1         0          1        1   \n",
              "2                                   1         0          0        0   \n",
              "3                                   0         0          0        0   \n",
              "4                                   0         0          0        0   \n",
              "\n",
              "   CAEC_Always  CAEC_Frequently  CAEC_Sometimes  CAEC_no  CALC_Always  \\\n",
              "0            0                0               1        0            0   \n",
              "1            0                0               1        0            0   \n",
              "2            0                0               1        0            0   \n",
              "3            0                0               1        0            0   \n",
              "4            0                0               1        0            0   \n",
              "\n",
              "   CALC_Frequently  CALC_Sometimes  CALC_no  MTRANS_Automobile  MTRANS_Bike  \\\n",
              "0                0               0        1                  0            0   \n",
              "1                0               1        0                  0            0   \n",
              "2                1               0        0                  0            0   \n",
              "3                1               0        0                  0            0   \n",
              "4                0               1        0                  0            0   \n",
              "\n",
              "   MTRANS_Motorbike  MTRANS_Public_Transportation  MTRANS_Walking  \n",
              "0                 0                             1               0  \n",
              "1                 0                             1               0  \n",
              "2                 0                             1               0  \n",
              "3                 0                             0               1  \n",
              "4                 0                             1               0  "
            ]
          },
          "metadata": {
            "tags": []
          },
          "execution_count": 24
        }
      ]
    },
    {
      "cell_type": "code",
      "metadata": {
        "colab": {
          "base_uri": "https://localhost:8080/"
        },
        "id": "GDAMlE7i3Q2z",
        "outputId": "b580ebd8-86a0-4f98-a88d-baeb41ff8933"
      },
      "source": [
        "spDF = spark.createDataFrame(one_hot_1)\n",
        "spDF.show()"
      ],
      "execution_count": 25,
      "outputs": [
        {
          "output_type": "stream",
          "text": [
            "+----------+---+----+---+----+---+---+-----------+----------------------------------+--------+---------+-------+-----------+---------------+--------------+-------+-----------+---------------+--------------+-------+-----------------+-----------+----------------+----------------------------+--------------+\n",
            "|NObeyesdad|Age|FCVC|NCP|CH2O|FAF|TUE|Gender_Male|family_history_with_overweight_yes|FAVC_yes|SMOKE_yes|SCC_yes|CAEC_Always|CAEC_Frequently|CAEC_Sometimes|CAEC_no|CALC_Always|CALC_Frequently|CALC_Sometimes|CALC_no|MTRANS_Automobile|MTRANS_Bike|MTRANS_Motorbike|MTRANS_Public_Transportation|MTRANS_Walking|\n",
            "+----------+---+----+---+----+---+---+-----------+----------------------------------+--------+---------+-------+-----------+---------------+--------------+-------+-----------+---------------+--------------+-------+-----------------+-----------+----------------+----------------------------+--------------+\n",
            "|         1| 21| 2.0|3.0| 2.0|0.0|1.0|          0|                                 1|       0|        0|      0|          0|              0|             1|      0|          0|              0|             0|      1|                0|          0|               0|                           1|             0|\n",
            "|         1| 21| 3.0|3.0| 3.0|3.0|0.0|          0|                                 1|       0|        1|      1|          0|              0|             1|      0|          0|              0|             1|      0|                0|          0|               0|                           1|             0|\n",
            "|         1| 23| 2.0|3.0| 2.0|2.0|1.0|          1|                                 1|       0|        0|      0|          0|              0|             1|      0|          0|              1|             0|      0|                0|          0|               0|                           1|             0|\n",
            "|         5| 27| 3.0|3.0| 2.0|2.0|0.0|          1|                                 0|       0|        0|      0|          0|              0|             1|      0|          0|              1|             0|      0|                0|          0|               0|                           0|             1|\n",
            "|         6| 22| 2.0|1.0| 2.0|0.0|0.0|          1|                                 0|       0|        0|      0|          0|              0|             1|      0|          0|              0|             1|      0|                0|          0|               0|                           1|             0|\n",
            "|         1| 29| 2.0|3.0| 2.0|0.0|0.0|          1|                                 0|       1|        0|      0|          0|              0|             1|      0|          0|              0|             1|      0|                1|          0|               0|                           0|             0|\n",
            "|         1| 23| 3.0|3.0| 2.0|1.0|0.0|          0|                                 1|       1|        0|      0|          0|              0|             1|      0|          0|              0|             1|      0|                0|          0|               1|                           0|             0|\n",
            "|         1| 22| 2.0|3.0| 2.0|3.0|0.0|          1|                                 0|       0|        0|      0|          0|              0|             1|      0|          0|              0|             1|      0|                0|          0|               0|                           1|             0|\n",
            "|         1| 24| 3.0|3.0| 2.0|1.0|1.0|          1|                                 1|       1|        0|      0|          0|              0|             1|      0|          0|              1|             0|      0|                0|          0|               0|                           1|             0|\n",
            "|         1| 22| 2.0|3.0| 2.0|1.0|1.0|          1|                                 1|       1|        0|      0|          0|              0|             1|      0|          0|              0|             0|      1|                0|          0|               0|                           1|             0|\n",
            "|         2| 26| 3.0|3.0| 3.0|2.0|2.0|          1|                                 1|       1|        0|      0|          0|              1|             0|      0|          0|              0|             1|      0|                0|          0|               0|                           1|             0|\n",
            "|         6| 21| 2.0|3.0| 2.0|2.0|1.0|          0|                                 1|       1|        0|      1|          0|              1|             0|      0|          0|              0|             1|      0|                0|          0|               0|                           1|             0|\n",
            "|         1| 22| 3.0|3.0| 3.0|2.0|0.0|          1|                                 0|       0|        0|      0|          0|              0|             1|      0|          0|              0|             1|      0|                0|          0|               0|                           1|             0|\n",
            "|         2| 41| 2.0|3.0| 2.0|2.0|1.0|          1|                                 0|       1|        0|      0|          0|              0|             1|      0|          0|              1|             0|      0|                1|          0|               0|                           0|             0|\n",
            "|         1| 23| 3.0|1.0| 1.0|1.0|1.0|          1|                                 1|       1|        0|      0|          0|              0|             1|      0|          0|              0|             1|      0|                0|          0|               0|                           1|             0|\n",
            "|         1| 22| 3.0|3.0| 2.0|2.0|1.0|          0|                                 1|       0|        0|      1|          1|              0|             0|      0|          0|              0|             1|      0|                0|          0|               0|                           1|             0|\n",
            "|         6| 27| 2.0|1.0| 1.0|1.0|0.0|          1|                                 1|       1|        0|      0|          0|              0|             1|      0|          0|              0|             1|      0|                0|          0|               0|                           1|             0|\n",
            "|         2| 29| 2.0|1.0| 2.0|0.0|0.0|          0|                                 0|       1|        0|      0|          0|              0|             1|      0|          0|              0|             0|      1|                1|          0|               0|                           0|             0|\n",
            "|         6| 30| 3.0|3.0| 1.0|0.0|0.0|          0|                                 1|       1|        1|      0|          0|              1|             0|      0|          0|              0|             0|      1|                1|          0|               0|                           0|             0|\n",
            "|         5| 23| 2.0|1.0| 2.0|0.0|0.0|          0|                                 1|       0|        0|      0|          0|              0|             1|      0|          0|              0|             1|      0|                0|          0|               0|                           1|             0|\n",
            "+----------+---+----+---+----+---+---+-----------+----------------------------------+--------+---------+-------+-----------+---------------+--------------+-------+-----------+---------------+--------------+-------+-----------------+-----------+----------------+----------------------------+--------------+\n",
            "only showing top 20 rows\n",
            "\n"
          ],
          "name": "stdout"
        }
      ]
    },
    {
      "cell_type": "markdown",
      "metadata": {
        "id": "GLFuwqNSt8hA"
      },
      "source": [
        "Los modelos RDD con MLib necesitan trabajar con el formato Labeled Point"
      ]
    },
    {
      "cell_type": "code",
      "metadata": {
        "colab": {
          "base_uri": "https://localhost:8080/"
        },
        "id": "7lteUL7M3sgf",
        "outputId": "a70f6a0e-8c77-4601-a362-4fd4f31d4b3c"
      },
      "source": [
        "#De esta manera obtenemos el formato necesario para poder introducir los datos en los modelos de MLlib con RDD\n",
        "temp = spDF.rdd.map(lambda line:LabeledPoint(line[0],[line[1:]]))\n",
        "temp.take(5)"
      ],
      "execution_count": 26,
      "outputs": [
        {
          "output_type": "execute_result",
          "data": {
            "text/plain": [
              "[LabeledPoint(1.0, [21.0,2.0,3.0,2.0,0.0,1.0,0.0,1.0,0.0,0.0,0.0,0.0,0.0,1.0,0.0,0.0,0.0,0.0,1.0,0.0,0.0,0.0,1.0,0.0]),\n",
              " LabeledPoint(1.0, [21.0,3.0,3.0,3.0,3.0,0.0,0.0,1.0,0.0,1.0,1.0,0.0,0.0,1.0,0.0,0.0,0.0,1.0,0.0,0.0,0.0,0.0,1.0,0.0]),\n",
              " LabeledPoint(1.0, [23.0,2.0,3.0,2.0,2.0,1.0,1.0,1.0,0.0,0.0,0.0,0.0,0.0,1.0,0.0,0.0,1.0,0.0,0.0,0.0,0.0,0.0,1.0,0.0]),\n",
              " LabeledPoint(5.0, [27.0,3.0,3.0,2.0,2.0,0.0,1.0,0.0,0.0,0.0,0.0,0.0,0.0,1.0,0.0,0.0,1.0,0.0,0.0,0.0,0.0,0.0,0.0,1.0]),\n",
              " LabeledPoint(6.0, [22.0,2.0,1.0,2.0,0.0,0.0,1.0,0.0,0.0,0.0,0.0,0.0,0.0,1.0,0.0,0.0,0.0,1.0,0.0,0.0,0.0,0.0,1.0,0.0])]"
            ]
          },
          "metadata": {
            "tags": []
          },
          "execution_count": 26
        }
      ]
    },
    {
      "cell_type": "code",
      "metadata": {
        "id": "l8X1fyAZ4jZR"
      },
      "source": [
        "#Dividimos en la misma proporción qu el primer notebook\n",
        "trainingData, testingData = temp.randomSplit([.8,.2],seed=1234)"
      ],
      "execution_count": 27,
      "outputs": []
    },
    {
      "cell_type": "markdown",
      "metadata": {
        "id": "rFITeIwVtz-R"
      },
      "source": [
        "A continuación pasamos a la implementación de los mismos modelos."
      ]
    },
    {
      "cell_type": "markdown",
      "metadata": {
        "id": "juxmSeiSsgL1"
      },
      "source": [
        "## Regresión logística"
      ]
    },
    {
      "cell_type": "code",
      "metadata": {
        "id": "ICyobB3N5aVd"
      },
      "source": [
        "from pyspark.mllib.classification import LogisticRegressionWithLBFGS\n",
        "from pyspark.mllib.util import MLUtils\n",
        "from pyspark.mllib.evaluation import MulticlassMetrics\n",
        "\n",
        "model = LogisticRegressionWithLBFGS.train(trainingData,numClasses=7)\n",
        "\n"
      ],
      "execution_count": 28,
      "outputs": []
    },
    {
      "cell_type": "code",
      "metadata": {
        "colab": {
          "base_uri": "https://localhost:8080/"
        },
        "id": "k0_PjoE4OwbM",
        "outputId": "45cb73fe-bb92-4488-9dc1-b03ca003d6c3"
      },
      "source": [
        "%%time\n",
        "# Run training algorithm to build the model\n",
        "model = LogisticRegressionWithLBFGS.train(trainingData,numClasses=7)\n",
        "# Compute raw scores on the test set\n",
        "predictionAndLabels = testingData.map(lambda lp: (float(model.predict(lp.features)), lp.label))\n",
        "#predictionAndLabels.take(20)"
      ],
      "execution_count": 29,
      "outputs": [
        {
          "output_type": "stream",
          "text": [
            "CPU times: user 89.5 ms, sys: 13.1 ms, total: 103 ms\n",
            "Wall time: 7.34 s\n"
          ],
          "name": "stdout"
        }
      ]
    },
    {
      "cell_type": "markdown",
      "metadata": {
        "id": "i-RpxDQ348HK"
      },
      "source": [
        "# Random Forest"
      ]
    },
    {
      "cell_type": "code",
      "metadata": {
        "id": "wMw8wPxGQIPc"
      },
      "source": [
        "from pyspark.mllib.tree import RandomForest, RandomForestModel\n",
        "from pyspark.mllib.util import MLUtils"
      ],
      "execution_count": 30,
      "outputs": []
    },
    {
      "cell_type": "code",
      "metadata": {
        "id": "apFkPWILQZ8q"
      },
      "source": [
        "model_rf = RandomForest.trainClassifier(trainingData, numClasses=7, categoricalFeaturesInfo={},\n",
        "                                     numTrees=3, featureSubsetStrategy=\"auto\",\n",
        "                                     impurity='gini', maxDepth=4, maxBins=32)"
      ],
      "execution_count": 31,
      "outputs": []
    },
    {
      "cell_type": "code",
      "metadata": {
        "colab": {
          "base_uri": "https://localhost:8080/"
        },
        "id": "dXEu_0QxR2LL",
        "outputId": "5112400f-f9e3-49f0-f0f1-fa5b4ddcffee"
      },
      "source": [
        "%%time\n",
        "# Run training algorithm to build the model\n",
        "model_rf = RandomForest.trainClassifier(trainingData,numClasses=7,numTrees=3,categoricalFeaturesInfo={})\n",
        "# Compute raw scores on the test set\n",
        "predictionAndLabels = testingData.map(lambda lp: (float(model_rf.predict(lp.features)), lp.label))\n"
      ],
      "execution_count": 32,
      "outputs": [
        {
          "output_type": "stream",
          "text": [
            "CPU times: user 27 ms, sys: 3.73 ms, total: 30.7 ms\n",
            "Wall time: 1.9 s\n"
          ],
          "name": "stdout"
        }
      ]
    },
    {
      "cell_type": "markdown",
      "metadata": {
        "id": "W36r2XDd-3cI"
      },
      "source": [
        "# Árbol de decisión"
      ]
    },
    {
      "cell_type": "code",
      "metadata": {
        "id": "taRJ2odrTy8H"
      },
      "source": [
        "from pyspark.mllib.tree import DecisionTree, DecisionTreeModel\n",
        "from pyspark.mllib.util import MLUtils"
      ],
      "execution_count": 33,
      "outputs": []
    },
    {
      "cell_type": "code",
      "metadata": {
        "id": "S2IX2M3oUlHl"
      },
      "source": [
        "model_dt = DecisionTree.trainClassifier(trainingData, numClasses=7, categoricalFeaturesInfo={},\n",
        "                                     impurity='gini', maxDepth=4, maxBins=32)"
      ],
      "execution_count": 34,
      "outputs": []
    },
    {
      "cell_type": "code",
      "metadata": {
        "colab": {
          "base_uri": "https://localhost:8080/"
        },
        "id": "ecPKBxTwU7k7",
        "outputId": "809888e6-50c8-491f-f656-345acc4ff41f"
      },
      "source": [
        "%%time\n",
        "# Run training algorithm to build the model\n",
        "model_dt= DecisionTree.trainClassifier(trainingData,numClasses=7,categoricalFeaturesInfo={})\n",
        "# Compute raw scores on the test set\n",
        "predictionAndLabels = testingData.map(lambda lp: (float(model_dt.predict(lp.features)), lp.label))\n"
      ],
      "execution_count": 35,
      "outputs": [
        {
          "output_type": "stream",
          "text": [
            "CPU times: user 16.8 ms, sys: 6.31 ms, total: 23.1 ms\n",
            "Wall time: 1.32 s\n"
          ],
          "name": "stdout"
        }
      ]
    },
    {
      "cell_type": "markdown",
      "metadata": {
        "id": "H7c8ixk1V5BH"
      },
      "source": [
        "## Naive Bayes"
      ]
    },
    {
      "cell_type": "code",
      "metadata": {
        "id": "yvbJNvV_WFLA"
      },
      "source": [
        "from pyspark.mllib.classification import NaiveBayes, NaiveBayesModel\n",
        "from pyspark.mllib.util import MLUtils"
      ],
      "execution_count": 36,
      "outputs": []
    },
    {
      "cell_type": "code",
      "metadata": {
        "id": "f66qhlItWNLe"
      },
      "source": [
        "model_nb = NaiveBayes.train(trainingData, 1.0)"
      ],
      "execution_count": 37,
      "outputs": []
    },
    {
      "cell_type": "code",
      "metadata": {
        "colab": {
          "base_uri": "https://localhost:8080/"
        },
        "id": "OKmk0zFFWRS4",
        "outputId": "f11d2174-3d74-484b-852a-68b6e46dbb88"
      },
      "source": [
        "%%time\n",
        "# Run training algorithm to build the model\n",
        "model_nb= NaiveBayes.train(trainingData)\n",
        "# Compute raw scores on the test set\n",
        "predictionAndLabels = testingData.map(lambda lp: (float(model_nb.predict(lp.features)), lp.label))"
      ],
      "execution_count": 38,
      "outputs": [
        {
          "output_type": "stream",
          "text": [
            "CPU times: user 51.2 ms, sys: 12.9 ms, total: 64.1 ms\n",
            "Wall time: 2.56 s\n"
          ],
          "name": "stdout"
        }
      ]
    }
  ]
}