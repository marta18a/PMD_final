{
  "nbformat": 4,
  "nbformat_minor": 0,
  "metadata": {
    "colab": {
      "name": "PMD_pySpark_Dataframe.ipynb",
      "provenance": [],
      "collapsed_sections": []
    },
    "kernelspec": {
      "name": "python3",
      "display_name": "Python 3"
    },
    "language_info": {
      "name": "python"
    }
  },
  "cells": [
    {
      "cell_type": "markdown",
      "metadata": {
        "id": "UYFlH3uG6Bze"
      },
      "source": [
        "# Procesado Masivo de Datos\n",
        "\n",
        "### Ana Pérez Hoyos, Ariadna Viera Santana, Marta Cartillo Ortiz y María Pardo Díaz."
      ]
    },
    {
      "cell_type": "markdown",
      "metadata": {
        "id": "7T-dU9rCrwkT"
      },
      "source": [
        "Este proyecto consta de dos notebooks diferetes.\n",
        "En este primer Notebook emplearemos *Dataframe-based-API* del modulo MlLib de pySpark. "
      ]
    },
    {
      "cell_type": "markdown",
      "metadata": {
        "id": "a22LegCc6y8P"
      },
      "source": [
        "La base de datos empleada en este proyecto es *'Estimation of obesity levels based on eating habits and physical condition Data Set'* https://archive.ics.uci.edu/ml/datasets/Estimation+of+obesity+levels+based+on+eating+habits+and+physical+condition+\n",
        "\n",
        "**- Descripción del dataset:**\n",
        "\n",
        "Este conjunto de datos contiene información de diferentes pacientes procedentes de México, Perú y Colombia, de edades entre 14 y 61 años. Los datos fueron recogidos mediante una encuesta anónima utilizando una página web, generando 17 atritubos y 2111 observaciones después de utilizar un proceso para balancear las clases (el 77% de los datos fueron generados de manera sintética utilizando las herramientas Weka y SMOTE filter). La base de datos contiene características de naturaleza tanto cuantitativa como categórica.\n",
        "    \n",
        "**- Atributos:**\n",
        "- ***Género***: masculino o femenino\n",
        "- ***Edad***: entre 14 y 61 años\n",
        "- ***Altura***: float\n",
        "- ***Peso***: en kg\n",
        "- ***Antecedentes familiares de obesidad***: sí/no\n",
        "- ***FAVC***: sí/no. Consumo frecuente de alimentos altos en calorías.\n",
        "- ***FCVC***: 1, 2 o 3. Frecuencia de consumo de verduras.\n",
        "- ***NCP***: 1, 2, 3. Número de comidas al día (1: entre una y 2; 2: tres; 3: más de tres).\n",
        "- ***CAEC***: No, Sometimes, Frequently, Always. Consumo comida entre horas.\n",
        "- ***SMOKE***: sí/no. Fumador o no fumador.\n",
        "- ***CH2O***: 1, 2, 3. Consumo agua (1: menos de 1L; 2: entre 1 y 2L; 3: más de 2 L)\n",
        "- ***SCC***: sí/no. Monitorización de calorías.\n",
        "- ***FAF***: 0, 1, 2, 3. Frecuencia actividad física (0: nunca; 1: uno o dos días; 2: dos o cuatro días; 3: cuatro o cinco días).\n",
        "- ***TUE***: 0, 1, 2. Uso de dispositivos electrónicos por ejemplo: móvil, videojuegos, televisión, ordenador... (0: entre 0-2h; 1: entre 3-5h; 2; más de 5h.\n",
        "- ***CALC***:  No, Sometimes, Frequently, Always. Consumo de alcohol.\n",
        "- ***MTRANS***: Automobile, Motorbike, Bike, Public Transportation, Walking. Medio de transporte\n",
        "- ***NObesity***: Insufficient Weight, Normal Weight, Overweight Level I, Overweight Level II, Obesity Type I, Obesity Type II and Obesity Type III. Etiqueta asociada a la salida deseada."
      ]
    },
    {
      "cell_type": "markdown",
      "metadata": {
        "id": "VGI452eD1-9w"
      },
      "source": [
        "ML en Spark:\n",
        "https://github.com/dhirajprai/SparkML/blob/master/SparkML/logisticregression.ipynb\n",
        "\n",
        "Scalable: https://www.codementor.io/@jadianes/spark-mllib-logistic-regression-du107neto\n"
      ]
    },
    {
      "cell_type": "code",
      "metadata": {
        "id": "HUCVl147uRpM",
        "colab": {
          "base_uri": "https://localhost:8080/"
        },
        "outputId": "0b37fd9b-e2bc-4582-f228-8d6fda566b45"
      },
      "source": [
        "from google.colab import drive\n",
        "drive.mount('/content/drive', force_remount=True)"
      ],
      "execution_count": 1,
      "outputs": [
        {
          "output_type": "stream",
          "text": [
            "Mounted at /content/drive\n"
          ],
          "name": "stdout"
        }
      ]
    },
    {
      "cell_type": "code",
      "metadata": {
        "id": "cAjZT3g3tm6u",
        "colab": {
          "base_uri": "https://localhost:8080/"
        },
        "outputId": "b4954c46-5214-4f06-81bc-65dd3b792480"
      },
      "source": [
        "\n",
        "# Installing pySpark and importing some useful packages\n",
        "!pip install pyspark[sql]\n",
        "\n",
        "from __future__ import print_function\n",
        "from functools import wraps\n",
        "import pyspark as spark\n",
        "from pyspark import SparkConf\n",
        "import time\n",
        "from operator import add\n",
        "import os \n",
        "from subprocess import STDOUT, check_call, check_output\n",
        "import numpy as np\n"
      ],
      "execution_count": 2,
      "outputs": [
        {
          "output_type": "stream",
          "text": [
            "Collecting pyspark[sql]\n",
            "\u001b[?25l  Downloading https://files.pythonhosted.org/packages/45/b0/9d6860891ab14a39d4bddf80ba26ce51c2f9dc4805e5c6978ac0472c120a/pyspark-3.1.1.tar.gz (212.3MB)\n",
            "\u001b[K     |████████████████████████████████| 212.3MB 66kB/s \n",
            "\u001b[?25hCollecting py4j==0.10.9\n",
            "\u001b[?25l  Downloading https://files.pythonhosted.org/packages/9e/b6/6a4fb90cd235dc8e265a6a2067f2a2c99f0d91787f06aca4bcf7c23f3f80/py4j-0.10.9-py2.py3-none-any.whl (198kB)\n",
            "\u001b[K     |████████████████████████████████| 204kB 19.0MB/s \n",
            "\u001b[?25hRequirement already satisfied: pandas>=0.23.2 in /usr/local/lib/python3.7/dist-packages (from pyspark[sql]) (1.1.5)\n",
            "Requirement already satisfied: pyarrow>=1.0.0 in /usr/local/lib/python3.7/dist-packages (from pyspark[sql]) (3.0.0)\n",
            "Requirement already satisfied: numpy>=1.15.4 in /usr/local/lib/python3.7/dist-packages (from pandas>=0.23.2->pyspark[sql]) (1.19.5)\n",
            "Requirement already satisfied: pytz>=2017.2 in /usr/local/lib/python3.7/dist-packages (from pandas>=0.23.2->pyspark[sql]) (2018.9)\n",
            "Requirement already satisfied: python-dateutil>=2.7.3 in /usr/local/lib/python3.7/dist-packages (from pandas>=0.23.2->pyspark[sql]) (2.8.1)\n",
            "Requirement already satisfied: six>=1.5 in /usr/local/lib/python3.7/dist-packages (from python-dateutil>=2.7.3->pandas>=0.23.2->pyspark[sql]) (1.15.0)\n",
            "Building wheels for collected packages: pyspark\n",
            "  Building wheel for pyspark (setup.py) ... \u001b[?25l\u001b[?25hdone\n",
            "  Created wheel for pyspark: filename=pyspark-3.1.1-py2.py3-none-any.whl size=212767604 sha256=1a987d42d398892ab511e96108923bf591d708fb4ab9cbe72a117eec8f3695ff\n",
            "  Stored in directory: /root/.cache/pip/wheels/0b/90/c0/01de724414ef122bd05f056541fb6a0ecf47c7ca655f8b3c0f\n",
            "Successfully built pyspark\n",
            "Installing collected packages: py4j, pyspark\n",
            "Successfully installed py4j-0.10.9 pyspark-3.1.1\n"
          ],
          "name": "stdout"
        }
      ]
    },
    {
      "cell_type": "code",
      "metadata": {
        "id": "Hbn0Evz6t5x8"
      },
      "source": [
        "# Inicializamos Spark\n",
        "from pyspark.sql import SparkSession\n",
        "spark = SparkSession.builder.master(\"local\").appName(\"obesity\").config(\"spark.some.config.option\",\"some-value\").getOrCreate()"
      ],
      "execution_count": 3,
      "outputs": []
    },
    {
      "cell_type": "code",
      "metadata": {
        "id": "mLTfth6Pwa-G",
        "colab": {
          "base_uri": "https://localhost:8080/"
        },
        "outputId": "c1390889-af97-48e9-b1b9-626b32625bf1"
      },
      "source": [
        "# Extraemos los datos de la base de datos\n",
        "raw_data = spark.read.format(\"csv\").option(\"header\",\"true\").option(\"inferSchema\", \"true\").load(r\"/content/drive/My Drive/PMD/ObesityDataSet_raw_and_data_sinthetic.csv\")\n",
        "raw_data.columns\n"
      ],
      "execution_count": 4,
      "outputs": [
        {
          "output_type": "execute_result",
          "data": {
            "text/plain": [
              "['Gender',\n",
              " 'Age',\n",
              " 'Height',\n",
              " 'Weight',\n",
              " 'family_history_with_overweight',\n",
              " 'FAVC',\n",
              " 'FCVC',\n",
              " 'NCP',\n",
              " 'CAEC',\n",
              " 'SMOKE',\n",
              " 'CH2O',\n",
              " 'SCC',\n",
              " 'FAF',\n",
              " 'TUE',\n",
              " 'CALC',\n",
              " 'MTRANS',\n",
              " 'NObeyesdad']"
            ]
          },
          "metadata": {
            "tags": []
          },
          "execution_count": 4
        }
      ]
    },
    {
      "cell_type": "code",
      "metadata": {
        "id": "-a0bO6bbyYI7",
        "colab": {
          "base_uri": "https://localhost:8080/"
        },
        "outputId": "8cbe8339-b214-4372-820c-0147b0cb9503"
      },
      "source": [
        "raw_data.show(5)"
      ],
      "execution_count": 5,
      "outputs": [
        {
          "output_type": "stream",
          "text": [
            "+------+----+------+------+------------------------------+----+----+---+---------+-----+----+---+---+---+----------+--------------------+-------------------+\n",
            "|Gender| Age|Height|Weight|family_history_with_overweight|FAVC|FCVC|NCP|     CAEC|SMOKE|CH2O|SCC|FAF|TUE|      CALC|              MTRANS|         NObeyesdad|\n",
            "+------+----+------+------+------------------------------+----+----+---+---------+-----+----+---+---+---+----------+--------------------+-------------------+\n",
            "|Female|21.0|  1.62|  64.0|                           yes|  no| 2.0|3.0|Sometimes|   no| 2.0| no|0.0|1.0|        no|Public_Transporta...|      Normal_Weight|\n",
            "|Female|21.0|  1.52|  56.0|                           yes|  no| 3.0|3.0|Sometimes|  yes| 3.0|yes|3.0|0.0| Sometimes|Public_Transporta...|      Normal_Weight|\n",
            "|  Male|23.0|   1.8|  77.0|                           yes|  no| 2.0|3.0|Sometimes|   no| 2.0| no|2.0|1.0|Frequently|Public_Transporta...|      Normal_Weight|\n",
            "|  Male|27.0|   1.8|  87.0|                            no|  no| 3.0|3.0|Sometimes|   no| 2.0| no|2.0|0.0|Frequently|             Walking| Overweight_Level_I|\n",
            "|  Male|22.0|  1.78|  89.8|                            no|  no| 2.0|1.0|Sometimes|   no| 2.0| no|0.0|0.0| Sometimes|Public_Transporta...|Overweight_Level_II|\n",
            "+------+----+------+------+------------------------------+----+----+---+---------+-----+----+---+---+---+----------+--------------------+-------------------+\n",
            "only showing top 5 rows\n",
            "\n"
          ],
          "name": "stdout"
        }
      ]
    },
    {
      "cell_type": "code",
      "metadata": {
        "id": "JY9W7w-zw4tO",
        "colab": {
          "base_uri": "https://localhost:8080/"
        },
        "outputId": "d474be34-5f56-4d1a-e7c3-653666091ecb"
      },
      "source": [
        "#Extraemos los estadísticos principales de las características cuantitativas\n",
        "raw_data.describe().select('Age', 'Height', 'Weight','FCVC').show()"
      ],
      "execution_count": 6,
      "outputs": [
        {
          "output_type": "stream",
          "text": [
            "+-----------------+-------------------+------------------+------------------+\n",
            "|              Age|             Height|            Weight|              FCVC|\n",
            "+-----------------+-------------------+------------------+------------------+\n",
            "|             2111|               2111|              2111|              2111|\n",
            "|24.31259990857412| 1.7016773533870178| 86.58605812648037|2.4190430615821916|\n",
            "|6.345968273732226|0.09330481986792012|26.191171745204706|0.5339265785032998|\n",
            "|             14.0|               1.45|              39.0|               1.0|\n",
            "|             61.0|               1.98|             173.0|               3.0|\n",
            "+-----------------+-------------------+------------------+------------------+\n",
            "\n"
          ],
          "name": "stdout"
        }
      ]
    },
    {
      "cell_type": "code",
      "metadata": {
        "id": "2rTqaRDuxd3i",
        "colab": {
          "base_uri": "https://localhost:8080/"
        },
        "outputId": "b2f1ea0d-ff8d-48b4-b8eb-33603ca3df63"
      },
      "source": [
        "print('Las dimensiones de la base de datos son: ')\n",
        "print((raw_data.count(), len(raw_data.columns)))"
      ],
      "execution_count": 7,
      "outputs": [
        {
          "output_type": "stream",
          "text": [
            "Las dimensiones de la base de datos son: \n",
            "(2111, 17)\n"
          ],
          "name": "stdout"
        }
      ]
    },
    {
      "cell_type": "code",
      "metadata": {
        "id": "w-K3HYExxwc1",
        "colab": {
          "base_uri": "https://localhost:8080/"
        },
        "outputId": "1de578fe-39ca-42a8-ae08-9d550008687b"
      },
      "source": [
        "#Vemos tipo de datos que contienen las variabes\n",
        "raw_data.printSchema()"
      ],
      "execution_count": 8,
      "outputs": [
        {
          "output_type": "stream",
          "text": [
            "root\n",
            " |-- Gender: string (nullable = true)\n",
            " |-- Age: double (nullable = true)\n",
            " |-- Height: double (nullable = true)\n",
            " |-- Weight: double (nullable = true)\n",
            " |-- family_history_with_overweight: string (nullable = true)\n",
            " |-- FAVC: string (nullable = true)\n",
            " |-- FCVC: double (nullable = true)\n",
            " |-- NCP: double (nullable = true)\n",
            " |-- CAEC: string (nullable = true)\n",
            " |-- SMOKE: string (nullable = true)\n",
            " |-- CH2O: double (nullable = true)\n",
            " |-- SCC: string (nullable = true)\n",
            " |-- FAF: double (nullable = true)\n",
            " |-- TUE: double (nullable = true)\n",
            " |-- CALC: string (nullable = true)\n",
            " |-- MTRANS: string (nullable = true)\n",
            " |-- NObeyesdad: string (nullable = true)\n",
            "\n"
          ],
          "name": "stdout"
        }
      ]
    },
    {
      "cell_type": "code",
      "metadata": {
        "id": "G9uETqdQyqFZ",
        "colab": {
          "base_uri": "https://localhost:8080/"
        },
        "outputId": "b630eefc-0d37-4b3f-ba96-95c8263fe488"
      },
      "source": [
        "#Valores únicos de las caractarísticas:\n",
        "cols=raw_data.columns\n",
        "for i in cols:\n",
        "  print(i,\":\",raw_data.select(i).distinct().count())"
      ],
      "execution_count": 9,
      "outputs": [
        {
          "output_type": "stream",
          "text": [
            "Gender : 2\n",
            "Age : 1402\n",
            "Height : 1574\n",
            "Weight : 1525\n",
            "family_history_with_overweight : 2\n",
            "FAVC : 2\n",
            "FCVC : 810\n",
            "NCP : 635\n",
            "CAEC : 4\n",
            "SMOKE : 2\n",
            "CH2O : 1268\n",
            "SCC : 2\n",
            "FAF : 1190\n",
            "TUE : 1129\n",
            "CALC : 4\n",
            "MTRANS : 5\n",
            "NObeyesdad : 7\n"
          ],
          "name": "stdout"
        }
      ]
    },
    {
      "cell_type": "code",
      "metadata": {
        "id": "TbZDmlJKeHKs",
        "colab": {
          "base_uri": "https://localhost:8080/"
        },
        "outputId": "ee17e8f2-919b-4ca0-8fc9-0b4f364df3e8"
      },
      "source": [
        "#Comprobamos que las clases están balanceadas\n",
        "raw_data.groupBy(['NObeyesdad']).count().show()"
      ],
      "execution_count": 10,
      "outputs": [
        {
          "output_type": "stream",
          "text": [
            "+-------------------+-----+\n",
            "|         NObeyesdad|count|\n",
            "+-------------------+-----+\n",
            "|   Obesity_Type_III|  324|\n",
            "| Overweight_Level_I|  290|\n",
            "|    Obesity_Type_II|  297|\n",
            "|Insufficient_Weight|  272|\n",
            "|Overweight_Level_II|  290|\n",
            "|      Normal_Weight|  287|\n",
            "|     Obesity_Type_I|  351|\n",
            "+-------------------+-----+\n",
            "\n"
          ],
          "name": "stdout"
        }
      ]
    },
    {
      "cell_type": "code",
      "metadata": {
        "colab": {
          "base_uri": "https://localhost:8080/",
          "height": 389
        },
        "id": "k4nis1MmQmjC",
        "outputId": "4911d9de-5aef-4e95-94fd-19352f908e8f"
      },
      "source": [
        "data_pd=raw_data.select(\"*\").toPandas()\n",
        "#data_pd\n",
        "data_pd['NObeyesdad'].value_counts().plot.bar(title=\"NObeyesdad\", color=['red', 'blue', 'purple', 'green', 'lavender', 'c', 'magenta'])"
      ],
      "execution_count": 11,
      "outputs": [
        {
          "output_type": "execute_result",
          "data": {
            "text/plain": [
              "<matplotlib.axes._subplots.AxesSubplot at 0x7fdb66dbc610>"
            ]
          },
          "metadata": {
            "tags": []
          },
          "execution_count": 11
        },
        {
          "output_type": "display_data",
          "data": {
            "image/png": "[encoded data removed]",
            "text/plain": [
              "<Figure size 432x288 with 1 Axes>"
            ]
          },
          "metadata": {
            "tags": [],
            "needs_background": "light"
          }
        }
      ]
    },
    {
      "cell_type": "markdown",
      "metadata": {
        "id": "woRLciDzRBrC"
      },
      "source": [
        "En el histograma se muestran el número de registros pertenecientes a cada clase, podemos ver que las clases están balanceadas."
      ]
    },
    {
      "cell_type": "markdown",
      "metadata": {
        "id": "ZY5_9YWsHF2L"
      },
      "source": [
        "Como en muchas de las variables categóricas como el consumo de agua diario (CH2O) se han estimado los valores de las muestras creadas sinteticamente mediante distribuciones uniformes, debemos redondear estos valores para que tengan algún tipo de sentido. Por tanto, lo primero de todo en este apartado de pre-procesado sería redondear las variables categóricas generadas de manera sintética, a números enteros. Esta transformación es necesaria para que tengan la misma apariencia y estructura que los datos recogidos originales"
      ]
    },
    {
      "cell_type": "code",
      "metadata": {
        "id": "VoQXxkBsHELo"
      },
      "source": [
        "from pyspark.sql.functions import round, col\n",
        "from pyspark.sql.functions import *\n",
        " \n",
        "# 1 Select the column\n",
        "CH2O_r = raw_data.select(\"*\", round(col('CH2O')))\n",
        "FAF_r=raw_data.select(\"*\", round(col('FAF')))\n",
        "TUE_r=raw_data.select(\"*\", round(col('TUE')))\n",
        "FCVC_r=raw_data.select(\"*\", round(col('FCVC')))\n",
        "NCP_r=raw_data.select(\"*\", round(col('NCP')))\n",
        " \n",
        "# 2 Apply the transformation and add it to the DataFrame\n",
        "raw_data = raw_data.withColumn(\"CH2O_r\",round(col('CH2O')))\n",
        "raw_data = raw_data.withColumn(\"FAF_r\",round(col('FAF')))\n",
        "raw_data = raw_data.withColumn(\"TUE_r\",round(col('TUE')))\n",
        "raw_data = raw_data.withColumn(\"FCVC_r\",round(col('FCVC')))\n",
        "raw_data = raw_data.withColumn(\"NCP_r\",round(col('NCP')))\n",
        " \n",
        "#raw_data.tail(5)"
      ],
      "execution_count": 12,
      "outputs": []
    },
    {
      "cell_type": "markdown",
      "metadata": {
        "id": "wVIgSfzmHM8O"
      },
      "source": [
        "En este paso además, convertiremos los valores de NCP=4 en NCP=3, ya que al redondear los datos que fueron generados de forma sintética, ha aparecido un valor (4) que no existía en los valores de la característica en su origen"
      ]
    },
    {
      "cell_type": "code",
      "metadata": {
        "id": "lHAB4LrPHEVo",
        "colab": {
          "base_uri": "https://localhost:8080/"
        },
        "outputId": "1b42d59e-c845-4993-ac3e-1f4341725da4"
      },
      "source": [
        "raw_data.select(\"NCP_r\").distinct().show()"
      ],
      "execution_count": 13,
      "outputs": [
        {
          "output_type": "stream",
          "text": [
            "+-----+\n",
            "|NCP_r|\n",
            "+-----+\n",
            "|  1.0|\n",
            "|  4.0|\n",
            "|  3.0|\n",
            "|  2.0|\n",
            "+-----+\n",
            "\n"
          ],
          "name": "stdout"
        }
      ]
    },
    {
      "cell_type": "code",
      "metadata": {
        "id": "56RS8WwWHEYX",
        "colab": {
          "base_uri": "https://localhost:8080/"
        },
        "outputId": "b30f2bac-50c5-4d95-c0f4-3385acc9d48c"
      },
      "source": [
        "raw_data = raw_data.withColumn('NCP_r', regexp_replace('NCP_r', '4', '3'))\n",
        "\n",
        "from pyspark.sql.types import DoubleType\n",
        "raw_data= raw_data.withColumn('NCP_r', raw_data[\"NCP_r\"].cast(DoubleType()))\n",
        "raw_data.select(\"NCP_r\").distinct().show()"
      ],
      "execution_count": 14,
      "outputs": [
        {
          "output_type": "stream",
          "text": [
            "+-----+\n",
            "|NCP_r|\n",
            "+-----+\n",
            "|  1.0|\n",
            "|  3.0|\n",
            "|  2.0|\n",
            "+-----+\n",
            "\n"
          ],
          "name": "stdout"
        }
      ]
    },
    {
      "cell_type": "code",
      "metadata": {
        "id": "uCXqtGwl_SfE",
        "colab": {
          "base_uri": "https://localhost:8080/"
        },
        "outputId": "887c6024-9054-4382-e377-d85962fd5677"
      },
      "source": [
        "raw_data.printSchema()"
      ],
      "execution_count": 15,
      "outputs": [
        {
          "output_type": "stream",
          "text": [
            "root\n",
            " |-- Gender: string (nullable = true)\n",
            " |-- Age: double (nullable = true)\n",
            " |-- Height: double (nullable = true)\n",
            " |-- Weight: double (nullable = true)\n",
            " |-- family_history_with_overweight: string (nullable = true)\n",
            " |-- FAVC: string (nullable = true)\n",
            " |-- FCVC: double (nullable = true)\n",
            " |-- NCP: double (nullable = true)\n",
            " |-- CAEC: string (nullable = true)\n",
            " |-- SMOKE: string (nullable = true)\n",
            " |-- CH2O: double (nullable = true)\n",
            " |-- SCC: string (nullable = true)\n",
            " |-- FAF: double (nullable = true)\n",
            " |-- TUE: double (nullable = true)\n",
            " |-- CALC: string (nullable = true)\n",
            " |-- MTRANS: string (nullable = true)\n",
            " |-- NObeyesdad: string (nullable = true)\n",
            " |-- CH2O_r: double (nullable = true)\n",
            " |-- FAF_r: double (nullable = true)\n",
            " |-- TUE_r: double (nullable = true)\n",
            " |-- FCVC_r: double (nullable = true)\n",
            " |-- NCP_r: double (nullable = true)\n",
            "\n"
          ],
          "name": "stdout"
        }
      ]
    },
    {
      "cell_type": "code",
      "metadata": {
        "id": "XAwHhhitHEbp",
        "colab": {
          "base_uri": "https://localhost:8080/"
        },
        "outputId": "d437aae5-2e46-434c-f3ca-b9290db6b699"
      },
      "source": [
        "#Vemos que no tiene missing values\n",
        "from pyspark.sql.functions import col,sum\n",
        "raw_data.select(*(sum(col(c).isNull().cast(\"int\")).alias(c) for c in raw_data.columns)).show()"
      ],
      "execution_count": 16,
      "outputs": [
        {
          "output_type": "stream",
          "text": [
            "+------+---+------+------+------------------------------+----+----+---+----+-----+----+---+---+---+----+------+----------+------+-----+-----+------+-----+\n",
            "|Gender|Age|Height|Weight|family_history_with_overweight|FAVC|FCVC|NCP|CAEC|SMOKE|CH2O|SCC|FAF|TUE|CALC|MTRANS|NObeyesdad|CH2O_r|FAF_r|TUE_r|FCVC_r|NCP_r|\n",
            "+------+---+------+------+------------------------------+----+----+---+----+-----+----+---+---+---+----+------+----------+------+-----+-----+------+-----+\n",
            "|     0|  0|     0|     0|                             0|   0|   0|  0|   0|    0|   0|  0|  0|  0|   0|     0|         0|     0|    0|    0|     0|    0|\n",
            "+------+---+------+------+------------------------------+----+----+---+----+-----+----+---+---+---+----+------+----------+------+-----+-----+------+-----+\n",
            "\n"
          ],
          "name": "stdout"
        }
      ]
    },
    {
      "cell_type": "markdown",
      "metadata": {
        "id": "Vdv93lXzYcTn"
      },
      "source": [
        "Vamos a eliminar las variables 'Height' (altura) y 'Weight' (peso), debido a su alta correlación con la salida. Esta correlación tan directa viene dada porque son las dos características que definen el grado de obesidad mediante la fórmula:\n",
        "\n",
        "𝑀𝑎𝑠𝑠𝑏𝑜𝑑𝑦𝑖𝑛𝑑𝑒𝑥=𝑤𝑒𝑖𝑔ℎ𝑡/(ℎ𝑒𝑖𝑔ℎ𝑡∗ℎ𝑒𝑖𝑔ℎ𝑡)\n",
        " \n",
        "Después de calcular el Mass body index (BMI) o índice de masa corporal en español, se asigna una categoría dependiendo del intervalo en el que se encuentre dicho valor.\n",
        "\n",
        "Underweight: BMI < 18.5\n",
        "\n",
        "Normal: 18.5 < BMI < 24.9\n",
        "\n",
        "Overweight: 25.0 < BMI < 29.9\n",
        "\n",
        "Obesity I: 30.0 < BMI < 34.9\n",
        "\n",
        "Obesity II: 35.0 < BMI < 39.9\n",
        "\n",
        "Obesity III: BMI > 40\n",
        "\n",
        "Por lo dicho, solo tiene sentido comprobar los valores anómalos en la variable de Age. Y al ser nuestra base de datos una encuesta con diferentes y muy variados valores, no consideramos que sea necesario imputar los valores de edad fuera del intervalos de z score.\n",
        "En añadido, usaremos las variables que hemos redondeado."
      ]
    },
    {
      "cell_type": "code",
      "metadata": {
        "id": "_Lo1Deql6EnC"
      },
      "source": [
        "\n",
        "from pyspark.ml.feature import StringIndexer\n",
        "stringIndexer = StringIndexer(inputCol=\"NObeyesdad\", outputCol=\"newNObeyesdad\")\n",
        "model = stringIndexer.fit(raw_data)\n",
        "raw_data = model.transform(raw_data)\n"
      ],
      "execution_count": 17,
      "outputs": []
    },
    {
      "cell_type": "code",
      "metadata": {
        "id": "K8CTBkmjLCDb"
      },
      "source": [
        "select_variables = raw_data.select('Age', 'FCVC_r', 'NCP_r', 'CH2O_r', 'FAF_r', 'TUE_r', 'Gender', 'family_history_with_overweight', 'FAVC', 'CAEC', 'SMOKE', 'SCC', 'CALC', 'MTRANS', 'newNObeyesdad' )"
      ],
      "execution_count": 18,
      "outputs": []
    },
    {
      "cell_type": "code",
      "metadata": {
        "id": "kABAXGuJYVyh"
      },
      "source": [
        "#Obesity_Type_I=0\n",
        "#Obesity_Type_III=1\n",
        "#Obesity_Type_II=2\n",
        "#Overweight_Level_I=3\n",
        "#Overweight_Level_II=4\n",
        "#Normal_Weight=5\n",
        "#Insufficient_Weight=6\n",
        "\n"
      ],
      "execution_count": 19,
      "outputs": []
    },
    {
      "cell_type": "code",
      "metadata": {
        "id": "-o3In-bxLwSJ",
        "colab": {
          "base_uri": "https://localhost:8080/"
        },
        "outputId": "8cd30384-9e75-415a-fad6-7784b564c8b0"
      },
      "source": [
        "#Separamos las variables numericas de las categóricas, ya que únicamente se emplea el one hot encoding en las variables categóricas\n",
        "\n",
        "catCols = [x for (x, dataType) in select_variables.dtypes if dataType == 'string']\n",
        "numCols = [x for (x, dataType) in select_variables.dtypes if ((dataType == 'double') & (x != \"isFraud\")) ]\n",
        "\n",
        "print(catCols)\n",
        "print(numCols)\n",
        "\n",
        "#catCols=raw_data.select('Gender')"
      ],
      "execution_count": 20,
      "outputs": [
        {
          "output_type": "stream",
          "text": [
            "['Gender', 'family_history_with_overweight', 'FAVC', 'CAEC', 'SMOKE', 'SCC', 'CALC', 'MTRANS']\n",
            "['Age', 'FCVC_r', 'NCP_r', 'CH2O_r', 'FAF_r', 'TUE_r', 'newNObeyesdad']\n"
          ],
          "name": "stdout"
        }
      ]
    },
    {
      "cell_type": "markdown",
      "metadata": {
        "id": "yCEhdXoI_4Fm"
      },
      "source": [
        "Observamos algunas de las variables categóricas"
      ]
    },
    {
      "cell_type": "markdown",
      "metadata": {
        "id": "-yBxtMWJOb_d"
      },
      "source": [
        "## One hot encoding"
      ]
    },
    {
      "cell_type": "code",
      "metadata": {
        "id": "dR4b_qrwOi4D"
      },
      "source": [
        "from pyspark.sql import SparkSession\n",
        "import pyspark.sql.functions as F\n",
        "import pyspark.sql.types as T"
      ],
      "execution_count": 21,
      "outputs": []
    },
    {
      "cell_type": "code",
      "metadata": {
        "id": "KA-ikMKuxRe7"
      },
      "source": [
        "#Aplicamos one hot encoding para pasar modificar variables categóricas \n",
        "\n",
        "from pyspark.ml.feature import (OneHotEncoder, StringIndexer)"
      ],
      "execution_count": 22,
      "outputs": []
    },
    {
      "cell_type": "code",
      "metadata": {
        "id": "mApcYU9zz231"
      },
      "source": [
        "#StringIndexer(inputCol=\"Gender\", outputCol=\"Gender_encoded\")\n",
        "\n",
        "string_indexer = [ \n",
        "      StringIndexer(inputCol=x, outputCol=x + \"_StringIndexer\", handleInvalid=\"skip\")\n",
        "      for x in catCols]"
      ],
      "execution_count": 23,
      "outputs": []
    },
    {
      "cell_type": "code",
      "metadata": {
        "id": "VmIHj57Wz26y"
      },
      "source": [
        "one_hot_encoder = [\n",
        "          OneHotEncoder(\n",
        "              inputCols=[f\"{x}_StringIndexer\" for x in catCols],\n",
        "              outputCols=[f\"{x}_OneHotEncoder\" for x in catCols],\n",
        "          )\n",
        "]"
      ],
      "execution_count": 24,
      "outputs": []
    },
    {
      "cell_type": "code",
      "metadata": {
        "id": "5-AOECVt4SQ4"
      },
      "source": [
        "#Vector assembling combina los valores de inputCols en un solo vector\n",
        "\n",
        "from pyspark.ml.feature import VectorAssembler"
      ],
      "execution_count": 25,
      "outputs": []
    },
    {
      "cell_type": "code",
      "metadata": {
        "id": "qgZQC4N_4STm"
      },
      "source": [
        "assemblerInput = [x for x in numCols]\n",
        "assemblerInput += [f\"{x}_OneHotEncoder\" for x in catCols]"
      ],
      "execution_count": 26,
      "outputs": []
    },
    {
      "cell_type": "code",
      "metadata": {
        "id": "PV0xKrQ54SWO",
        "colab": {
          "base_uri": "https://localhost:8080/"
        },
        "outputId": "7d0960a0-52f5-447a-bf18-9757c2c5275f"
      },
      "source": [
        "assemblerInput"
      ],
      "execution_count": 27,
      "outputs": [
        {
          "output_type": "execute_result",
          "data": {
            "text/plain": [
              "['Age',\n",
              " 'FCVC_r',\n",
              " 'NCP_r',\n",
              " 'CH2O_r',\n",
              " 'FAF_r',\n",
              " 'TUE_r',\n",
              " 'newNObeyesdad',\n",
              " 'Gender_OneHotEncoder',\n",
              " 'family_history_with_overweight_OneHotEncoder',\n",
              " 'FAVC_OneHotEncoder',\n",
              " 'CAEC_OneHotEncoder',\n",
              " 'SMOKE_OneHotEncoder',\n",
              " 'SCC_OneHotEncoder',\n",
              " 'CALC_OneHotEncoder',\n",
              " 'MTRANS_OneHotEncoder']"
            ]
          },
          "metadata": {
            "tags": []
          },
          "execution_count": 27
        }
      ]
    },
    {
      "cell_type": "code",
      "metadata": {
        "id": "ZiOAzAWl4SYi"
      },
      "source": [
        "vector_assembler = VectorAssembler(\n",
        "    inputCols=assemblerInput, outputCol='VectorAssembler_features'\n",
        ")"
      ],
      "execution_count": 28,
      "outputs": []
    },
    {
      "cell_type": "code",
      "metadata": {
        "id": "hGxv41ot4Sap"
      },
      "source": [
        "stages=[]\n",
        "stages += string_indexer\n",
        "stages += one_hot_encoder\n",
        "stages += [vector_assembler]"
      ],
      "execution_count": 29,
      "outputs": []
    },
    {
      "cell_type": "code",
      "metadata": {
        "id": "fnxixTkl4SfC"
      },
      "source": [
        "from pyspark.ml import Pipeline\n",
        "\n",
        "pipeline = Pipeline().setStages(stages)\n",
        "\n",
        "model = pipeline.fit(select_variables)\n",
        "\n",
        "new_data = model.transform(select_variables)"
      ],
      "execution_count": 30,
      "outputs": []
    },
    {
      "cell_type": "code",
      "metadata": {
        "id": "TWHYeEDdDQnT",
        "colab": {
          "base_uri": "https://localhost:8080/"
        },
        "outputId": "0c12e89e-6752-4b81-8834-650ef8620d6f"
      },
      "source": [
        "new_data.select('Age', 'FCVC_r', 'NCP_r', 'CH2O_r', 'FAF_r', 'TUE_r', \n",
        "                'Gender', 'family_history_with_overweight', 'FAVC', 'CAEC', 'SMOKE', 'SCC', 'CALC', 'MTRANS', 'newNObeyesdad',\n",
        "                'VectorAssembler_features').show(truncate=False)"
      ],
      "execution_count": 31,
      "outputs": [
        {
          "output_type": "stream",
          "text": [
            "+----+------+-----+------+-----+-----+------+------------------------------+----+----------+-----+---+----------+---------------------+-------------+--------------------------------------------------------------------------------------------+\n",
            "|Age |FCVC_r|NCP_r|CH2O_r|FAF_r|TUE_r|Gender|family_history_with_overweight|FAVC|CAEC      |SMOKE|SCC|CALC      |MTRANS               |newNObeyesdad|VectorAssembler_features                                                                    |\n",
            "+----+------+-----+------+-----+-----+------+------------------------------+----+----------+-----+---+----------+---------------------+-------------+--------------------------------------------------------------------------------------------+\n",
            "|21.0|2.0   |3.0  |2.0   |0.0  |1.0  |Female|yes                           |no  |Sometimes |no   |no |no        |Public_Transportation|5.0          |(22,[0,1,2,3,5,6,8,10,13,14,16,18],[21.0,2.0,3.0,2.0,1.0,5.0,1.0,1.0,1.0,1.0,1.0,1.0])      |\n",
            "|21.0|3.0   |3.0  |3.0   |3.0  |0.0  |Female|yes                           |no  |Sometimes |yes  |yes|Sometimes |Public_Transportation|5.0          |(22,[0,1,2,3,4,6,8,10,15,18],[21.0,3.0,3.0,3.0,3.0,5.0,1.0,1.0,1.0,1.0])                    |\n",
            "|23.0|2.0   |3.0  |2.0   |2.0  |1.0  |Male  |yes                           |no  |Sometimes |no   |no |Frequently|Public_Transportation|5.0          |[23.0,2.0,3.0,2.0,2.0,1.0,5.0,1.0,1.0,0.0,1.0,0.0,0.0,1.0,1.0,0.0,0.0,1.0,1.0,0.0,0.0,0.0]  |\n",
            "|27.0|3.0   |3.0  |2.0   |2.0  |0.0  |Male  |no                            |no  |Sometimes |no   |no |Frequently|Walking              |3.0          |(22,[0,1,2,3,4,6,7,10,13,14,17,20],[27.0,3.0,3.0,2.0,2.0,3.0,1.0,1.0,1.0,1.0,1.0,1.0])      |\n",
            "|22.0|2.0   |1.0  |2.0   |0.0  |0.0  |Male  |no                            |no  |Sometimes |no   |no |Sometimes |Public_Transportation|4.0          |(22,[0,1,2,3,6,7,10,13,14,15,18],[22.0,2.0,1.0,2.0,4.0,1.0,1.0,1.0,1.0,1.0,1.0])            |\n",
            "|29.0|2.0   |3.0  |2.0   |0.0  |0.0  |Male  |no                            |yes |Sometimes |no   |no |Sometimes |Automobile           |5.0          |(22,[0,1,2,3,6,7,9,10,13,14,15,19],[29.0,2.0,3.0,2.0,5.0,1.0,1.0,1.0,1.0,1.0,1.0,1.0])      |\n",
            "|23.0|3.0   |3.0  |2.0   |1.0  |0.0  |Female|yes                           |yes |Sometimes |no   |no |Sometimes |Motorbike            |5.0          |(22,[0,1,2,3,4,6,8,9,10,13,14,15,21],[23.0,3.0,3.0,2.0,1.0,5.0,1.0,1.0,1.0,1.0,1.0,1.0,1.0])|\n",
            "|22.0|2.0   |3.0  |2.0   |3.0  |0.0  |Male  |no                            |no  |Sometimes |no   |no |Sometimes |Public_Transportation|5.0          |(22,[0,1,2,3,4,6,7,10,13,14,15,18],[22.0,2.0,3.0,2.0,3.0,5.0,1.0,1.0,1.0,1.0,1.0,1.0])      |\n",
            "|24.0|3.0   |3.0  |2.0   |1.0  |1.0  |Male  |yes                           |yes |Sometimes |no   |no |Frequently|Public_Transportation|5.0          |[24.0,3.0,3.0,2.0,1.0,1.0,5.0,1.0,1.0,1.0,1.0,0.0,0.0,1.0,1.0,0.0,0.0,1.0,1.0,0.0,0.0,0.0]  |\n",
            "|22.0|2.0   |3.0  |2.0   |1.0  |1.0  |Male  |yes                           |yes |Sometimes |no   |no |no        |Public_Transportation|5.0          |[22.0,2.0,3.0,2.0,1.0,1.0,5.0,1.0,1.0,1.0,1.0,0.0,0.0,1.0,1.0,0.0,1.0,0.0,1.0,0.0,0.0,0.0]  |\n",
            "|26.0|3.0   |3.0  |3.0   |2.0  |2.0  |Male  |yes                           |yes |Frequently|no   |no |Sometimes |Public_Transportation|0.0          |[26.0,3.0,3.0,3.0,2.0,2.0,0.0,1.0,1.0,1.0,0.0,1.0,0.0,1.0,1.0,1.0,0.0,0.0,1.0,0.0,0.0,0.0]  |\n",
            "|21.0|2.0   |3.0  |2.0   |2.0  |1.0  |Female|yes                           |yes |Frequently|no   |yes|Sometimes |Public_Transportation|4.0          |(22,[0,1,2,3,4,5,6,8,9,11,13,15,18],[21.0,2.0,3.0,2.0,2.0,1.0,4.0,1.0,1.0,1.0,1.0,1.0,1.0]) |\n",
            "|22.0|3.0   |3.0  |3.0   |2.0  |0.0  |Male  |no                            |no  |Sometimes |no   |no |Sometimes |Public_Transportation|5.0          |(22,[0,1,2,3,4,6,7,10,13,14,15,18],[22.0,3.0,3.0,3.0,2.0,5.0,1.0,1.0,1.0,1.0,1.0,1.0])      |\n",
            "|41.0|2.0   |3.0  |2.0   |2.0  |1.0  |Male  |no                            |yes |Sometimes |no   |no |Frequently|Automobile           |0.0          |(22,[0,1,2,3,4,5,7,9,10,13,14,17,19],[41.0,2.0,3.0,2.0,2.0,1.0,1.0,1.0,1.0,1.0,1.0,1.0,1.0])|\n",
            "|23.0|3.0   |1.0  |1.0   |1.0  |1.0  |Male  |yes                           |yes |Sometimes |no   |no |Sometimes |Public_Transportation|5.0          |[23.0,3.0,1.0,1.0,1.0,1.0,5.0,1.0,1.0,1.0,1.0,0.0,0.0,1.0,1.0,1.0,0.0,0.0,1.0,0.0,0.0,0.0]  |\n",
            "|22.0|3.0   |3.0  |2.0   |2.0  |1.0  |Female|yes                           |no  |Always    |no   |yes|Sometimes |Public_Transportation|5.0          |(22,[0,1,2,3,4,5,6,8,12,13,15,18],[22.0,3.0,3.0,2.0,2.0,1.0,5.0,1.0,1.0,1.0,1.0,1.0])       |\n",
            "|27.0|2.0   |1.0  |1.0   |1.0  |0.0  |Male  |yes                           |yes |Sometimes |no   |no |Sometimes |Public_Transportation|4.0          |[27.0,2.0,1.0,1.0,1.0,0.0,4.0,1.0,1.0,1.0,1.0,0.0,0.0,1.0,1.0,1.0,0.0,0.0,1.0,0.0,0.0,0.0]  |\n",
            "|29.0|2.0   |1.0  |2.0   |0.0  |0.0  |Female|no                            |yes |Sometimes |no   |no |no        |Automobile           |0.0          |(22,[0,1,2,3,9,10,13,14,16,19],[29.0,2.0,1.0,2.0,1.0,1.0,1.0,1.0,1.0,1.0])                  |\n",
            "|30.0|3.0   |3.0  |1.0   |0.0  |0.0  |Female|yes                           |yes |Frequently|yes  |no |no        |Automobile           |4.0          |(22,[0,1,2,3,6,8,9,11,14,16,19],[30.0,3.0,3.0,1.0,4.0,1.0,1.0,1.0,1.0,1.0,1.0])             |\n",
            "|23.0|2.0   |1.0  |2.0   |0.0  |0.0  |Female|yes                           |no  |Sometimes |no   |no |Sometimes |Public_Transportation|3.0          |(22,[0,1,2,3,6,8,10,13,14,15,18],[23.0,2.0,1.0,2.0,3.0,1.0,1.0,1.0,1.0,1.0,1.0])            |\n",
            "+----+------+-----+------+-----+-----+------+------------------------------+----+----------+-----+---+----------+---------------------+-------------+--------------------------------------------------------------------------------------------+\n",
            "only showing top 20 rows\n",
            "\n"
          ],
          "name": "stdout"
        }
      ]
    },
    {
      "cell_type": "code",
      "metadata": {
        "id": "J9vtFYll8FsJ",
        "colab": {
          "base_uri": "https://localhost:8080/"
        },
        "outputId": "c7d7019a-be0d-47ef-b71b-0c8e2acfa2b1"
      },
      "source": [
        "new_data.show(5)"
      ],
      "execution_count": 32,
      "outputs": [
        {
          "output_type": "stream",
          "text": [
            "+----+------+-----+------+-----+-----+------+------------------------------+----+---------+-----+---+----------+--------------------+-------------+--------------------+--------------------------------------------+------------------+------------------+-------------------+-----------------+------------------+--------------------+--------------------+------------------+------------------+-------------------+--------------------+-----------------+--------------------------------------------+------------------+------------------------+\n",
            "| Age|FCVC_r|NCP_r|CH2O_r|FAF_r|TUE_r|Gender|family_history_with_overweight|FAVC|     CAEC|SMOKE|SCC|      CALC|              MTRANS|newNObeyesdad|Gender_StringIndexer|family_history_with_overweight_StringIndexer|FAVC_StringIndexer|CAEC_StringIndexer|SMOKE_StringIndexer|SCC_StringIndexer|CALC_StringIndexer|MTRANS_StringIndexer|Gender_OneHotEncoder|FAVC_OneHotEncoder|CAEC_OneHotEncoder|SMOKE_OneHotEncoder|MTRANS_OneHotEncoder|SCC_OneHotEncoder|family_history_with_overweight_OneHotEncoder|CALC_OneHotEncoder|VectorAssembler_features|\n",
            "+----+------+-----+------+-----+-----+------+------------------------------+----+---------+-----+---+----------+--------------------+-------------+--------------------+--------------------------------------------+------------------+------------------+-------------------+-----------------+------------------+--------------------+--------------------+------------------+------------------+-------------------+--------------------+-----------------+--------------------------------------------+------------------+------------------------+\n",
            "|21.0|   2.0|  3.0|   2.0|  0.0|  1.0|Female|                           yes|  no|Sometimes|   no| no|        no|Public_Transporta...|          5.0|                 1.0|                                         0.0|               1.0|               0.0|                0.0|              0.0|               1.0|                 0.0|           (1,[],[])|         (1,[],[])|     (3,[0],[1.0])|      (1,[0],[1.0])|       (4,[0],[1.0])|    (1,[0],[1.0])|                               (1,[0],[1.0])|     (3,[1],[1.0])|    (22,[0,1,2,3,5,6,...|\n",
            "|21.0|   3.0|  3.0|   3.0|  3.0|  0.0|Female|                           yes|  no|Sometimes|  yes|yes| Sometimes|Public_Transporta...|          5.0|                 1.0|                                         0.0|               1.0|               0.0|                1.0|              1.0|               0.0|                 0.0|           (1,[],[])|         (1,[],[])|     (3,[0],[1.0])|          (1,[],[])|       (4,[0],[1.0])|        (1,[],[])|                               (1,[0],[1.0])|     (3,[0],[1.0])|    (22,[0,1,2,3,4,6,...|\n",
            "|23.0|   2.0|  3.0|   2.0|  2.0|  1.0|  Male|                           yes|  no|Sometimes|   no| no|Frequently|Public_Transporta...|          5.0|                 0.0|                                         0.0|               1.0|               0.0|                0.0|              0.0|               2.0|                 0.0|       (1,[0],[1.0])|         (1,[],[])|     (3,[0],[1.0])|      (1,[0],[1.0])|       (4,[0],[1.0])|    (1,[0],[1.0])|                               (1,[0],[1.0])|     (3,[2],[1.0])|    [23.0,2.0,3.0,2.0...|\n",
            "|27.0|   3.0|  3.0|   2.0|  2.0|  0.0|  Male|                            no|  no|Sometimes|   no| no|Frequently|             Walking|          3.0|                 0.0|                                         1.0|               1.0|               0.0|                0.0|              0.0|               2.0|                 2.0|       (1,[0],[1.0])|         (1,[],[])|     (3,[0],[1.0])|      (1,[0],[1.0])|       (4,[2],[1.0])|    (1,[0],[1.0])|                                   (1,[],[])|     (3,[2],[1.0])|    (22,[0,1,2,3,4,6,...|\n",
            "|22.0|   2.0|  1.0|   2.0|  0.0|  0.0|  Male|                            no|  no|Sometimes|   no| no| Sometimes|Public_Transporta...|          4.0|                 0.0|                                         1.0|               1.0|               0.0|                0.0|              0.0|               0.0|                 0.0|       (1,[0],[1.0])|         (1,[],[])|     (3,[0],[1.0])|      (1,[0],[1.0])|       (4,[0],[1.0])|    (1,[0],[1.0])|                                   (1,[],[])|     (3,[0],[1.0])|    (22,[0,1,2,3,6,7,...|\n",
            "+----+------+-----+------+-----+-----+------+------------------------------+----+---------+-----+---+----------+--------------------+-------------+--------------------+--------------------------------------------+------------------+------------------+-------------------+-----------------+------------------+--------------------+--------------------+------------------+------------------+-------------------+--------------------+-----------------+--------------------------------------------+------------------+------------------------+\n",
            "only showing top 5 rows\n",
            "\n"
          ],
          "name": "stdout"
        }
      ]
    },
    {
      "cell_type": "code",
      "metadata": {
        "id": "A8PrGT-gbAYf"
      },
      "source": [
        "import matplotlib.pyplot as plt\n",
        "import numpy as np\n",
        "import itertools\n",
        "\n",
        "def plot_confusion_matrix(cm, classes,\n",
        "                          normalize=False,\n",
        "                          title='Confusion matrix',\n",
        "                          cmap=plt.cm.Blues):\n",
        "    \"\"\"\n",
        "    This function prints and plots the confusion matrix.\n",
        "    Normalization can be applied by setting `normalize=True`.\n",
        "    \"\"\"\n",
        "    if normalize:\n",
        "        cm = cm.astype('float') / cm.sum(axis=1)[:, np.newaxis]\n",
        "        print(\"Normalized confusion matrix\")\n",
        "    else:\n",
        "        print('Confusion matrix, without normalization')\n",
        "\n",
        "    print(cm)\n",
        "\n",
        "    plt.imshow(cm, interpolation='nearest', cmap=cmap)\n",
        "    plt.title(title)\n",
        "    plt.colorbar()\n",
        "    tick_marks = np.arange(len(classes))\n",
        "    plt.xticks(tick_marks, classes, rotation=45)\n",
        "    plt.yticks(tick_marks, classes)\n",
        "\n",
        "    fmt = '.2f' if normalize else 'd'\n",
        "    thresh = cm.max() / 2.\n",
        "    for i, j in itertools.product(range(cm.shape[0]), range(cm.shape[1])):\n",
        "        plt.text(j, i, format(cm[i, j], fmt),\n",
        "                 horizontalalignment=\"center\",\n",
        "                 color=\"white\" if cm[i, j] > thresh else \"black\")\n",
        "\n",
        "    plt.tight_layout()\n",
        "    plt.ylabel('True label')\n",
        "    plt.xlabel('Predicted label')"
      ],
      "execution_count": 33,
      "outputs": []
    },
    {
      "cell_type": "markdown",
      "metadata": {
        "id": "wQTh2if0LQNQ"
      },
      "source": [
        "## Divimos los datos en Train y Test para entrenar los algoritmos de machine learning"
      ]
    },
    {
      "cell_type": "code",
      "metadata": {
        "id": "Kjd0McTGtmJy",
        "colab": {
          "base_uri": "https://localhost:8080/"
        },
        "outputId": "27e12fc3-6eeb-4ac8-aa5e-db45ac4936a0"
      },
      "source": [
        "# Split the data\n",
        "(train_data, test_data) = new_data.randomSplit([0.8,0.2], seed =2020)\n",
        "print(\"Training Dataset Count: \" + str(train_data.count()))\n",
        "print(\"Test Dataset Count: \" + str(test_data.count()))"
      ],
      "execution_count": 34,
      "outputs": [
        {
          "output_type": "stream",
          "text": [
            "Training Dataset Count: 1687\n",
            "Test Dataset Count: 424\n"
          ],
          "name": "stdout"
        }
      ]
    },
    {
      "cell_type": "code",
      "metadata": {
        "id": "VzegLA4zJI-4"
      },
      "source": [
        "class_temp = test_data.select(\"newNObeyesdad\").groupBy(\"newNObeyesdad\")\\\n",
        "                        .count().sort('count', ascending=True).toPandas()\n",
        "class_temp = class_temp[\"newNObeyesdad\"].values.tolist()\n"
      ],
      "execution_count": 35,
      "outputs": []
    },
    {
      "cell_type": "markdown",
      "metadata": {
        "id": "i-RpxDQ348HK"
      },
      "source": [
        "# Random Forest"
      ]
    },
    {
      "cell_type": "code",
      "metadata": {
        "id": "nm3ztjej5Dwg",
        "colab": {
          "base_uri": "https://localhost:8080/"
        },
        "outputId": "5fc87a1f-99bc-4738-db3d-08e686ace8ac"
      },
      "source": [
        "%%time\n",
        "from pyspark.ml.classification import RandomForestClassifier\n",
        "\n",
        "rf = RandomForestClassifier(labelCol='newNObeyesdad', \n",
        "                            featuresCol='VectorAssembler_features',\n",
        "                            maxDepth=5,\n",
        "                            seed=122)\n",
        "model = rf.fit(train_data)\n",
        "rf_predictions = model.transform(test_data)\n",
        "print('Tiempo que tarda en entrenar el modelo:')"
      ],
      "execution_count": 36,
      "outputs": [
        {
          "output_type": "stream",
          "text": [
            "Tiempo que tarda en entrenar el modelo:\n",
            "CPU times: user 72.5 ms, sys: 7.17 ms, total: 79.7 ms\n",
            "Wall time: 5.48 s\n"
          ],
          "name": "stdout"
        }
      ]
    },
    {
      "cell_type": "code",
      "metadata": {
        "id": "EiOcxTE18kKZ",
        "colab": {
          "base_uri": "https://localhost:8080/"
        },
        "outputId": "067e2afb-df9c-4aa4-b143-563b4ce24a6b"
      },
      "source": [
        "from pyspark.ml.evaluation import MulticlassClassificationEvaluator\n",
        "\n",
        "multi_evaluator = MulticlassClassificationEvaluator(labelCol = 'newNObeyesdad', metricName = 'accuracy')\n",
        "print('Random Forest classifier Accuracy:', multi_evaluator.evaluate(rf_predictions))\n",
        "print('')"
      ],
      "execution_count": 37,
      "outputs": [
        {
          "output_type": "stream",
          "text": [
            "Random Forest classifier Accuracy: 0.8985849056603774\n",
            "\n"
          ],
          "name": "stdout"
        }
      ]
    },
    {
      "cell_type": "code",
      "metadata": {
        "id": "VVBmspQVhSAw",
        "colab": {
          "base_uri": "https://localhost:8080/",
          "height": 450
        },
        "outputId": "66cf244f-f864-4b9c-900f-770339c99896"
      },
      "source": [
        "from sklearn.metrics import confusion_matrix\n",
        "y_true = test_data.select(\"newNObeyesdad\")\n",
        "y_true = y_true.toPandas()\n",
        "\n",
        "y_pred = rf_predictions.select(\"prediction\")\n",
        "y_pred = y_pred.toPandas()\n",
        "\n",
        "cnf_matrix = confusion_matrix(y_true, y_pred,labels=class_temp)\n",
        "#cnf_matrix\n",
        "\n",
        "plt.figure()\n",
        "plot_confusion_matrix(cnf_matrix, classes=class_temp,title='Confusion matrix, without normalization')\n",
        "plt.show()"
      ],
      "execution_count": 38,
      "outputs": [
        {
          "output_type": "stream",
          "text": [
            "Confusion matrix, without normalization\n",
            "[[30  0  4  3  1  1  0]\n",
            " [ 1 51  0  0  0  0  0]\n",
            " [ 0  0 59  1  0  0  0]\n",
            " [10  0  1 46  4  1  0]\n",
            " [ 4  0  4  5 53  0  0]\n",
            " [ 0  0  0  0  0 69  0]\n",
            " [ 0  0  0  0  0  3 73]]\n"
          ],
          "name": "stdout"
        },
        {
          "output_type": "display_data",
          "data": {
            "image/png": "[encoded data removed]",
            "text/plain": [
              "<Figure size 432x288 with 2 Axes>"
            ]
          },
          "metadata": {
            "tags": [],
            "needs_background": "light"
          }
        }
      ]
    },
    {
      "cell_type": "markdown",
      "metadata": {
        "id": "UaHtoXsZmx2e"
      },
      "source": [
        "'Insuficiente'--> 6\n",
        "\n",
        "'Normal' --> 5\n",
        "\n",
        "'SobrePesoI' --> 3\n",
        "\n",
        "'SobrePeso_II' --> 4\n",
        "\n",
        "'Obesidad_I'--> 0\n",
        "\n",
        "'Obesidad_III'--> 1\n",
        "\n",
        "'Obesidad_II'--> 2\n"
      ]
    },
    {
      "cell_type": "code",
      "metadata": {
        "id": "0XhiMg90kMLc"
      },
      "source": [
        "y_truee= y_true.to_numpy()\n",
        "y_predd= y_pred.to_numpy()"
      ],
      "execution_count": 39,
      "outputs": []
    },
    {
      "cell_type": "code",
      "metadata": {
        "colab": {
          "base_uri": "https://localhost:8080/"
        },
        "id": "b1cHtkdgkMLf",
        "outputId": "d5a4564f-3524-416b-aa9b-5782960eb4ed"
      },
      "source": [
        "from sklearn.metrics import classification_report\n",
        "print(classification_report(y_truee, y_predd,target_names=['Obesidad_I','Obesidad_III','Obesidad_II','SobrePesoI','SobrePeso_II','Normal','Insuficiente']))\n"
      ],
      "execution_count": 40,
      "outputs": [
        {
          "output_type": "stream",
          "text": [
            "              precision    recall  f1-score   support\n",
            "\n",
            "  Obesidad_I       1.00      0.96      0.98        76\n",
            "Obesidad_III       0.93      1.00      0.97        69\n",
            " Obesidad_II       0.87      0.98      0.92        60\n",
            "  SobrePesoI       0.91      0.80      0.85        66\n",
            "SobrePeso_II       0.67      0.77      0.71        39\n",
            "      Normal       0.84      0.74      0.79        62\n",
            "Insuficiente       1.00      0.98      0.99        52\n",
            "\n",
            "    accuracy                           0.90       424\n",
            "   macro avg       0.89      0.89      0.89       424\n",
            "weighted avg       0.90      0.90      0.90       424\n",
            "\n"
          ],
          "name": "stdout"
        }
      ]
    },
    {
      "cell_type": "markdown",
      "metadata": {
        "id": "QZBrFu45mNds"
      },
      "source": [
        "## Resultados Random Forest\n",
        "\n",
        "Este modelo nos proporciona una alta Tasa de Acierto (Accuracy: 0.8985849056603774). \n",
        "A partir de la matriz de confusión y de la Sensibilidad y Especificidad haremos un análisis de la clasificación:\n",
        "- En primer lugar, podemos ver que la Obesidad_Tipo_III, la obesidad de mayor grado, obtiene una sensibilidad de 1.0, esto quiere decir que todos los pacientes de este grupo fueron bien clasificados. Los otros dos tipos de obesidad también han obtenido métricas buenas.\n",
        "***Conclusión*** : este método parece que consigue predecir con bastante exactitud a partir de los hábitos de los encuestados cual es su tipo de obesidad, por que podemos inferir que los hábitos influyen en el grado de obesidad que se padece.\n",
        "- En segundo lugar, analizamos la clasificación de Peso_Insuficiente. En este caso solamente uno de estos pacientes fue asignado a otra clase, concretamente Sobre_Peso_II, pero ningún paciente fue asignado a este grupo sin pertenecer a él, por lo que la especificidad es de 1.0.\n",
        "- Por último, las peores méticas la obtenemos con los grupos de Normal, Sobrepeso_I y Sobrepeso_II que a pesar de realizar una clasificación notablemente buena, equivocan, sobre todo entre estos mismos grupos a algunos pacientes."
      ]
    },
    {
      "cell_type": "markdown",
      "metadata": {
        "id": "FToqgNU0rQKp"
      },
      "source": [
        "## Tiempo empleado Random Forest:\n",
        "\n",
        "Tiempo que tarda en entrenar el modelo:\n",
        "\n",
        "CPU times: user 67.6 ms\n",
        "\n",
        "sys: 8.39 ms\n",
        "\n",
        "***total: 76 ms***\n",
        "\n",
        "**Wall time: 5.68 s**\n"
      ]
    },
    {
      "cell_type": "markdown",
      "metadata": {
        "id": "W36r2XDd-3cI"
      },
      "source": [
        "# Árbol de decisión"
      ]
    },
    {
      "cell_type": "code",
      "metadata": {
        "id": "AAPqGC06-6-D",
        "colab": {
          "base_uri": "https://localhost:8080/"
        },
        "outputId": "bdfb87a4-2a51-4d40-9377-30e0304a03b0"
      },
      "source": [
        "#Diseñamos el modelo de árbol para estimar los datos\n",
        "%%time\n",
        "from pyspark.ml.classification import DecisionTreeClassifier\n",
        "\n",
        "dt = DecisionTreeClassifier(featuresCol = 'VectorAssembler_features', labelCol = 'newNObeyesdad', maxDepth = 4,seed=12)\n",
        "dtModel = dt.fit(train_data)\n",
        "dt_predictions = dtModel.transform(test_data)\n",
        "print('Tiempo que tarda en entrenar el modelo:')"
      ],
      "execution_count": 41,
      "outputs": [
        {
          "output_type": "stream",
          "text": [
            "Tiempo que tarda en entrenar el modelo:\n",
            "CPU times: user 45.2 ms, sys: 5.25 ms, total: 50.4 ms\n",
            "Wall time: 2.61 s\n"
          ],
          "name": "stdout"
        }
      ]
    },
    {
      "cell_type": "code",
      "metadata": {
        "id": "tNMUlrar_Wcf",
        "colab": {
          "base_uri": "https://localhost:8080/"
        },
        "outputId": "7744605d-376b-43e2-bffa-04d194f9a44d"
      },
      "source": [
        "from pyspark.ml.evaluation import MulticlassClassificationEvaluator\n",
        "\n",
        "multi_evaluator = MulticlassClassificationEvaluator(labelCol = 'newNObeyesdad', metricName = 'accuracy')\n",
        "print('Decision Tree Accuracy:', multi_evaluator.evaluate(dt_predictions))\n",
        "print('')"
      ],
      "execution_count": 42,
      "outputs": [
        {
          "output_type": "stream",
          "text": [
            "Decision Tree Accuracy: 0.7216981132075472\n",
            "\n"
          ],
          "name": "stdout"
        }
      ]
    },
    {
      "cell_type": "markdown",
      "metadata": {
        "id": "3BZ_Xoe5bYvC"
      },
      "source": [
        "Imprimimos el árbol generado"
      ]
    },
    {
      "cell_type": "code",
      "metadata": {
        "colab": {
          "base_uri": "https://localhost:8080/"
        },
        "id": "DmNN6GjxbdpM",
        "outputId": "d712f051-688f-4d51-eae6-ec0782fccd69"
      },
      "source": [
        "pipeline = Pipeline(stages=[vector_assembler, dtModel])\n",
        "model = pipeline.fit(train_data)\n",
        "vectAssembler = model.stages[0]\n",
        "dtModel = model.stages[1]\n",
        "print(\"Nodos: \" + str(dtModel.numNodes))\n",
        "print(\"Profundidad: \"+ str(dtModel.depth)) # summary only\n",
        "print(dtModel.toDebugString)"
      ],
      "execution_count": 43,
      "outputs": [
        {
          "output_type": "stream",
          "text": [
            "Nodos: 9\n",
            "Profundidad: 4\n",
            "DecisionTreeClassificationModel: uid=DecisionTreeClassifier_02a9525bb416, depth=4, numNodes=9, numClasses=7, numFeatures=22\n",
            "  If (feature 6 in {0.0})\n",
            "   Predict: 0.0\n",
            "  Else (feature 6 not in {0.0})\n",
            "   If (feature 6 in {1.0})\n",
            "    Predict: 1.0\n",
            "   Else (feature 6 not in {1.0})\n",
            "    If (feature 6 in {2.0})\n",
            "     Predict: 2.0\n",
            "    Else (feature 6 not in {2.0})\n",
            "     If (feature 6 in {3.0,4.0})\n",
            "      Predict: 4.0\n",
            "     Else (feature 6 not in {3.0,4.0})\n",
            "      Predict: 5.0\n",
            "\n"
          ],
          "name": "stdout"
        }
      ]
    },
    {
      "cell_type": "code",
      "metadata": {
        "id": "6n5oH-57IXCX"
      },
      "source": [
        "from sklearn.metrics import confusion_matrix\n",
        "y_true = test_data.select(\"newNObeyesdad\")\n",
        "y_true = y_true.toPandas()\n",
        "\n",
        "y_pred = dt_predictions.select(\"prediction\")\n",
        "y_pred = y_pred.toPandas()\n",
        "\n",
        "cnf_matrix = confusion_matrix(y_true, y_pred,labels=class_temp)\n",
        "#cnf_matrix"
      ],
      "execution_count": 44,
      "outputs": []
    },
    {
      "cell_type": "code",
      "metadata": {
        "id": "yURTxI2NbMJ2",
        "colab": {
          "base_uri": "https://localhost:8080/",
          "height": 450
        },
        "outputId": "0b650d05-06f6-4e04-ce7e-f43d41ff8d8f"
      },
      "source": [
        "plt.figure()\n",
        "plot_confusion_matrix(cnf_matrix, classes=class_temp,\n",
        "                      title='Confusion matrix, without normalization')\n",
        "plt.show()"
      ],
      "execution_count": 45,
      "outputs": [
        {
          "output_type": "stream",
          "text": [
            "Confusion matrix, without normalization\n",
            "[[39  0  0  0  0  0  0]\n",
            " [ 0  0  0 52  0  0  0]\n",
            " [ 0  0 60  0  0  0  0]\n",
            " [ 0  0  0 62  0  0  0]\n",
            " [66  0  0  0  0  0  0]\n",
            " [ 0  0  0  0  0 69  0]\n",
            " [ 0  0  0  0  0  0 76]]\n"
          ],
          "name": "stdout"
        },
        {
          "output_type": "display_data",
          "data": {
            "image/png": "[encoded data removed]",
            "text/plain": [
              "<Figure size 432x288 with 2 Axes>"
            ]
          },
          "metadata": {
            "tags": [],
            "needs_background": "light"
          }
        }
      ]
    },
    {
      "cell_type": "markdown",
      "metadata": {
        "id": "Sddr7Eijq_B5"
      },
      "source": [
        "'Insuficiente'--> 6\n",
        "\n",
        "'Normal' --> 5\n",
        "\n",
        "'SobrePesoI' --> 3\n",
        "\n",
        "'SobrePeso_II' --> 4\n",
        "\n",
        "'Obesidad_I'--> 0\n",
        "\n",
        "'Obesidad_III'--> 1\n",
        "\n",
        "'Obesidad_II'--> 2\n"
      ]
    },
    {
      "cell_type": "code",
      "metadata": {
        "id": "pJN6-pxlkKRq"
      },
      "source": [
        "y_truee= y_true.to_numpy()\n",
        "y_predd= y_pred.to_numpy()"
      ],
      "execution_count": 46,
      "outputs": []
    },
    {
      "cell_type": "code",
      "metadata": {
        "colab": {
          "base_uri": "https://localhost:8080/"
        },
        "id": "wMPWZ6mgkKRs",
        "outputId": "f38e1b95-f0a4-4579-f86c-61b83d847a07"
      },
      "source": [
        "from sklearn.metrics import classification_report\n",
        "print(classification_report(y_truee, y_predd,target_names=['Obesidad_I','Obesidad_III','Obesidad_II','SobrePesoI','SobrePeso_II','Normal','Insuficiente']))\n"
      ],
      "execution_count": 47,
      "outputs": [
        {
          "output_type": "stream",
          "text": [
            "              precision    recall  f1-score   support\n",
            "\n",
            "  Obesidad_I       1.00      1.00      1.00        76\n",
            "Obesidad_III       1.00      1.00      1.00        69\n",
            " Obesidad_II       1.00      1.00      1.00        60\n",
            "  SobrePesoI       0.00      0.00      0.00        66\n",
            "SobrePeso_II       0.37      1.00      0.54        39\n",
            "      Normal       0.54      1.00      0.70        62\n",
            "Insuficiente       0.00      0.00      0.00        52\n",
            "\n",
            "    accuracy                           0.72       424\n",
            "   macro avg       0.56      0.71      0.61       424\n",
            "weighted avg       0.60      0.72      0.64       424\n",
            "\n"
          ],
          "name": "stdout"
        },
        {
          "output_type": "stream",
          "text": [
            "/usr/local/lib/python3.7/dist-packages/sklearn/metrics/_classification.py:1272: UndefinedMetricWarning: Precision and F-score are ill-defined and being set to 0.0 in labels with no predicted samples. Use `zero_division` parameter to control this behavior.\n",
            "  _warn_prf(average, modifier, msg_start, len(result))\n"
          ],
          "name": "stderr"
        }
      ]
    },
    {
      "cell_type": "markdown",
      "metadata": {
        "id": "Dx7x6mKwrEfa"
      },
      "source": [
        "## Resultados Árbol de Decisión:\n",
        "Este modelo nos proporciona una Tasa de Acierto no muy alta (Accuracy: 0.7216981132075472). \n",
        "A partir de la matriz de confusión y de la Sensibilidad y Especificidad haremos un análisis de la clasificación:\n",
        "- En este caso volvemos a observar que las clases que mejor clasifica son los tres grados de obesidad, obteniendo en los tres la máxima precisión, Sensibilidad y Especificidad posibles (1.0)\n",
        "****Conclusión:** la conclusión anterior se refuerza, los hábitos de las personas guardan una gran relación con el grado de obesidad de las mismas.\n",
        "- En cambio, para el resto de grupos vemos que el modelo simplemente clasifica a los restantes a todos en el mismo grupo (SobrePeso_II), es decir este modelo no consigue establecer diferencias entre ellos y los agrupa a todos ( SobrePesoI, SobrePeso_II, Normal, Insuficienteen) en el mismo. De ahí que la precisión comjunta del modelo sea tan baja."
      ]
    },
    {
      "cell_type": "markdown",
      "metadata": {
        "id": "mG1sYEzfroL6"
      },
      "source": [
        "## Tiempo empleado Árbol de Decisión:\n",
        "\n",
        "Tiempo que tarda en entrenar el modelo:\n",
        "\n",
        "CPU times: user 46.2 ms\n",
        "\n",
        "sys: 6.36 ms\n",
        "\n",
        "***total: 52.5 ms***\n",
        "\n",
        "\n",
        "**Wall time: 2.62 s**"
      ]
    },
    {
      "cell_type": "markdown",
      "metadata": {
        "id": "7wymPMGKAKbH"
      },
      "source": [
        "# Regresión Logística"
      ]
    },
    {
      "cell_type": "code",
      "metadata": {
        "id": "gooBrr5kAPqQ",
        "colab": {
          "base_uri": "https://localhost:8080/"
        },
        "outputId": "3edde366-8be4-4d59-a1bd-e53a5afbb6c4"
      },
      "source": [
        "%%time\n",
        "from pyspark.ml.classification import LogisticRegression\n",
        "\n",
        "lr = LogisticRegression(featuresCol = 'VectorAssembler_features', labelCol = 'newNObeyesdad', maxIter=10)\n",
        "lrModel = lr.fit(train_data)\n",
        "lr_predictions = lrModel.transform(test_data)\n",
        "print('Tiempo que tarda en entrenar el modelo:')"
      ],
      "execution_count": 48,
      "outputs": [
        {
          "output_type": "stream",
          "text": [
            "Tiempo que tarda en entrenar el modelo:\n",
            "CPU times: user 55.9 ms, sys: 3.62 ms, total: 59.5 ms\n",
            "Wall time: 3.72 s\n"
          ],
          "name": "stdout"
        }
      ]
    },
    {
      "cell_type": "code",
      "metadata": {
        "id": "GAgIBi8obdcx",
        "colab": {
          "base_uri": "https://localhost:8080/"
        },
        "outputId": "9e73c87e-8bc6-46a1-9e73-a4b7c41653d5"
      },
      "source": [
        "from pyspark.ml.evaluation import MulticlassClassificationEvaluator\n",
        "\n",
        "multi_evaluator = MulticlassClassificationEvaluator(labelCol = 'newNObeyesdad', metricName = 'accuracy')\n",
        "print('Logistic Regression Accuracy:', multi_evaluator.evaluate(lr_predictions))\n",
        "print('')"
      ],
      "execution_count": 49,
      "outputs": [
        {
          "output_type": "stream",
          "text": [
            "Logistic Regression Accuracy: 0.6839622641509434\n",
            "\n"
          ],
          "name": "stdout"
        }
      ]
    },
    {
      "cell_type": "code",
      "metadata": {
        "id": "E7ffwnLsFoKV"
      },
      "source": [
        "from sklearn.metrics import confusion_matrix\n",
        "y_true = test_data.select(\"newNObeyesdad\")\n",
        "y_true = y_true.toPandas()\n",
        "\n",
        "y_pred = lr_predictions.select(\"prediction\")\n",
        "y_pred = y_pred.toPandas()\n",
        "\n",
        "cnf_matrix = confusion_matrix(y_true, y_pred,labels=class_temp)\n",
        "#cnf_matrix"
      ],
      "execution_count": 50,
      "outputs": []
    },
    {
      "cell_type": "code",
      "metadata": {
        "id": "gltesiHBiDHf",
        "colab": {
          "base_uri": "https://localhost:8080/",
          "height": 450
        },
        "outputId": "463b0a47-3fc9-4deb-8101-fb333684a9a2"
      },
      "source": [
        "plt.figure()\n",
        "plot_confusion_matrix(cnf_matrix, classes=class_temp, title='Confusion matrix, without normalization')\n",
        "plt.show()"
      ],
      "execution_count": 51,
      "outputs": [
        {
          "output_type": "stream",
          "text": [
            "Confusion matrix, without normalization\n",
            "[[22  0  6  2  9  0  0]\n",
            " [ 6 43  0  3  0  0  0]\n",
            " [ 1  0 45  1  5  0  8]\n",
            " [ 8 26  0 20  8  0  0]\n",
            " [16  1  9  7 31  0  2]\n",
            " [ 0  0  0  0  0 69  0]\n",
            " [ 0  0  8  1  1  6 60]]\n"
          ],
          "name": "stdout"
        },
        {
          "output_type": "display_data",
          "data": {
            "image/png": "[encoded data removed]",
            "text/plain": [
              "<Figure size 432x288 with 2 Axes>"
            ]
          },
          "metadata": {
            "tags": [],
            "needs_background": "light"
          }
        }
      ]
    },
    {
      "cell_type": "code",
      "metadata": {
        "id": "cXGqFUyRl8Ed"
      },
      "source": [
        "y_truee= y_true.to_numpy()\n",
        "y_predd= y_pred.to_numpy()"
      ],
      "execution_count": 52,
      "outputs": []
    },
    {
      "cell_type": "code",
      "metadata": {
        "colab": {
          "base_uri": "https://localhost:8080/"
        },
        "id": "lf5tpPyTmUzT",
        "outputId": "30607176-fd8a-4790-af60-09026136ff12"
      },
      "source": [
        "\n",
        "    \n",
        "from sklearn.metrics import classification_report\n",
        "print(classification_report(y_truee, y_predd,target_names=['Obesidad_I','Obesidad_III','Obesidad_II','SobrePesoI','SobrePeso_II','Normal','Insuficiente']))\n"
      ],
      "execution_count": 53,
      "outputs": [
        {
          "output_type": "stream",
          "text": [
            "              precision    recall  f1-score   support\n",
            "\n",
            "  Obesidad_I       0.86      0.79      0.82        76\n",
            "Obesidad_III       0.92      1.00      0.96        69\n",
            " Obesidad_II       0.66      0.75      0.70        60\n",
            "  SobrePesoI       0.57      0.47      0.52        66\n",
            "SobrePeso_II       0.42      0.56      0.48        39\n",
            "      Normal       0.59      0.32      0.42        62\n",
            "Insuficiente       0.61      0.83      0.70        52\n",
            "\n",
            "    accuracy                           0.68       424\n",
            "   macro avg       0.66      0.67      0.66       424\n",
            "weighted avg       0.69      0.68      0.67       424\n",
            "\n"
          ],
          "name": "stdout"
        }
      ]
    },
    {
      "cell_type": "markdown",
      "metadata": {
        "id": "XU3FRBoStt-X"
      },
      "source": [
        "## Resultados Regresión Logística\n",
        "\n",
        "Este modelo nos proporciona una Tasa de Acierto aceptable (Accuracy: 0.6839622641509434). A partir de la matriz de confusión y de la Sensibilidad y Especificidad haremos un análisis de la clasificación:\n",
        "- Volvemos a observar mejores métricas en los grupos de Obesidad, pero en menor medida que en casos anteriores, por lo que este no sería concluyente por si mismo.\n",
        "- El resto de grupos obtienen puntuaciones insuficientes."
      ]
    },
    {
      "cell_type": "markdown",
      "metadata": {
        "id": "fY3rS3_stuiX"
      },
      "source": [
        "## Tiempo empleado en Regresión Logística:\n",
        "\n",
        "Tiempo que tarda en entrenar el modelo:\n",
        "\n",
        "CPU times: user 65.5 ms\n",
        "\n",
        "sys: 3.37 ms\n",
        "\n",
        "***total: 68.8 ms***\n",
        "\n",
        "\n",
        "**Wall time: 4.12 s**"
      ]
    },
    {
      "cell_type": "markdown",
      "metadata": {
        "id": "jYAzpig4hOLw"
      },
      "source": [
        "# Naive Bayes"
      ]
    },
    {
      "cell_type": "code",
      "metadata": {
        "id": "wC-9ix94hM1H",
        "colab": {
          "base_uri": "https://localhost:8080/"
        },
        "outputId": "f7ba044f-21e0-4200-fbbb-66aa4977cbf8"
      },
      "source": [
        "%%time\n",
        "from pyspark.ml.classification import NaiveBayes\n",
        "nb = NaiveBayes(featuresCol = 'VectorAssembler_features', labelCol = 'newNObeyesdad', smoothing=1)\n",
        "model = nb.fit(train_data)\n",
        "predictions_nb = model.transform(test_data)\n",
        "print('Tiempo que tarda en entrenar el modelo:')"
      ],
      "execution_count": 54,
      "outputs": [
        {
          "output_type": "stream",
          "text": [
            "Tiempo que tarda en entrenar el modelo:\n",
            "CPU times: user 40.6 ms, sys: 7.67 ms, total: 48.3 ms\n",
            "Wall time: 3.82 s\n"
          ],
          "name": "stdout"
        }
      ]
    },
    {
      "cell_type": "code",
      "metadata": {
        "id": "tiXipJI2jvjb",
        "colab": {
          "base_uri": "https://localhost:8080/"
        },
        "outputId": "4e5f8169-b576-47ef-94b3-7bb5e25a5cd3"
      },
      "source": [
        "from pyspark.ml.evaluation import MulticlassClassificationEvaluator\n",
        "\n",
        "multi_evaluator = MulticlassClassificationEvaluator(labelCol = 'newNObeyesdad', metricName = 'accuracy')\n",
        "print('Naive Bayes Accuracy:', multi_evaluator.evaluate(predictions_nb))\n",
        "print('')"
      ],
      "execution_count": 55,
      "outputs": [
        {
          "output_type": "stream",
          "text": [
            "Naive Bayes Accuracy: 0.7240566037735849\n",
            "\n"
          ],
          "name": "stdout"
        }
      ]
    },
    {
      "cell_type": "code",
      "metadata": {
        "id": "w65w95WUl6oz"
      },
      "source": [
        "from sklearn.metrics import confusion_matrix\n",
        "y_true = test_data.select(\"newNObeyesdad\")\n",
        "y_true = y_true.toPandas()\n",
        "\n",
        "y_pred = predictions_nb.select(\"prediction\")\n",
        "y_pred = y_pred.toPandas()\n",
        "\n",
        "cnf_matrix = confusion_matrix(y_true, y_pred,labels=class_temp)\n",
        "#cnf_matrix"
      ],
      "execution_count": 56,
      "outputs": []
    },
    {
      "cell_type": "code",
      "metadata": {
        "colab": {
          "base_uri": "https://localhost:8080/",
          "height": 450
        },
        "id": "Ox7wsNhdl6pS",
        "outputId": "033d1d69-322b-489c-9517-6188666452fd"
      },
      "source": [
        "plt.figure()\n",
        "plot_confusion_matrix(cnf_matrix, classes=class_temp,\n",
        "                      title='Confusion matrix, without normalization')\n",
        "plt.show()"
      ],
      "execution_count": 57,
      "outputs": [
        {
          "output_type": "stream",
          "text": [
            "Confusion matrix, without normalization\n",
            "[[22  0  6  1 10  0  0]\n",
            " [ 1 49  0  2  0  0  0]\n",
            " [ 7  0 48  1  4  0  0]\n",
            " [11 23  0 21  7  0  0]\n",
            " [14  1 14  6 31  0  0]\n",
            " [ 0  0  0  0  0 69  0]\n",
            " [ 0  0  0  0  0  9 67]]\n"
          ],
          "name": "stdout"
        },
        {
          "output_type": "display_data",
          "data": {
            "image/png": "[encoded data removed]",
            "text/plain": [
              "<Figure size 432x288 with 2 Axes>"
            ]
          },
          "metadata": {
            "tags": [],
            "needs_background": "light"
          }
        }
      ]
    },
    {
      "cell_type": "code",
      "metadata": {
        "id": "mZmIkGmcl6pU"
      },
      "source": [
        "y_truee= y_true.to_numpy()\n",
        "y_predd= y_pred.to_numpy()"
      ],
      "execution_count": 58,
      "outputs": []
    },
    {
      "cell_type": "code",
      "metadata": {
        "colab": {
          "base_uri": "https://localhost:8080/"
        },
        "id": "edR9Kl8Xl6pU",
        "outputId": "b3684fc5-a342-4618-8143-5844b7246047"
      },
      "source": [
        "\n",
        "    \n",
        "from sklearn.metrics import classification_report\n",
        "print(classification_report(y_truee, y_predd,target_names=['Obesidad_I','Obesidad_III','Obesidad_II','SobrePesoI','SobrePeso_II','Normal','Insuficiente']))\n"
      ],
      "execution_count": 59,
      "outputs": [
        {
          "output_type": "stream",
          "text": [
            "              precision    recall  f1-score   support\n",
            "\n",
            "  Obesidad_I       1.00      0.88      0.94        76\n",
            "Obesidad_III       0.88      1.00      0.94        69\n",
            " Obesidad_II       0.71      0.80      0.75        60\n",
            "  SobrePesoI       0.60      0.47      0.53        66\n",
            "SobrePeso_II       0.40      0.56      0.47        39\n",
            "      Normal       0.68      0.34      0.45        62\n",
            "Insuficiente       0.67      0.94      0.78        52\n",
            "\n",
            "    accuracy                           0.72       424\n",
            "   macro avg       0.71      0.71      0.69       424\n",
            "weighted avg       0.73      0.72      0.71       424\n",
            "\n"
          ],
          "name": "stdout"
        }
      ]
    },
    {
      "cell_type": "markdown",
      "metadata": {
        "id": "G0wn8hkevxb8"
      },
      "source": [
        "# Resultados Naive Bayes\n",
        "\n",
        "Este modelo nos proporcionan una Tasa de Acierto aceptable (Accuracy: 0.7241). A partir de la matriz de confusión y de la Sensibilidad y Especificidad haremos un análisis de la clasificación:\n",
        "\n",
        "\n",
        "*   Volvemos a observar mejores métricas en los grupos de Obesidad, pero en menor medida que en casos anteriores, por lo que este no sería concluyente por si mismo.\n",
        "\n",
        "*   El resto de grupos obtienen puntuaciones insuficientes.\n",
        "\n",
        "\n"
      ]
    },
    {
      "cell_type": "markdown",
      "metadata": {
        "id": "RM-N4p8lxn34"
      },
      "source": [
        "## Tiempo empleado en Naive Bayes:\n",
        "\n",
        "Tiempo que tarda en entrenar el modelo:\n",
        "\n",
        "CPU times: user 35.8 ms\n",
        "\n",
        "sys: 2.71 ms\n",
        "\n",
        "***total: 38.5 ms***\n",
        "\n",
        "\n",
        "**Wall time: 3.27 s**"
      ]
    }
  ]
}